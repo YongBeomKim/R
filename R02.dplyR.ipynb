{
 "cells": [
  {
   "cell_type": "markdown",
   "metadata": {},
   "source": [
    "# <strong>R 데이터 편집 (dplyR)\n",
    "<br>\n",
    "## <strong>1 데이터 변경\n",
    "<strong>http://www.devtimes.com/194  (R 단축키)"
   ]
  },
  {
   "cell_type": "code",
   "execution_count": 1,
   "metadata": {},
   "outputs": [
    {
     "name": "stderr",
     "output_type": "stream",
     "text": [
      "\n",
      "Attaching package: ‘dplyr’\n",
      "\n",
      "The following objects are masked from ‘package:stats’:\n",
      "\n",
      "    filter, lag\n",
      "\n",
      "The following objects are masked from ‘package:base’:\n",
      "\n",
      "    intersect, setdiff, setequal, union\n",
      "\n"
     ]
    },
    {
     "data": {
      "text/html": [
       "<table>\n",
       "<thead><tr><th scope=col>var1</th><th scope=col>var2</th></tr></thead>\n",
       "<tbody>\n",
       "\t<tr><td>1</td><td>2</td></tr>\n",
       "\t<tr><td>2</td><td>3</td></tr>\n",
       "\t<tr><td>1</td><td>2</td></tr>\n",
       "</tbody>\n",
       "</table>\n"
      ],
      "text/latex": [
       "\\begin{tabular}{r|ll}\n",
       " var1 & var2\\\\\n",
       "\\hline\n",
       "\t 1 & 2\\\\\n",
       "\t 2 & 3\\\\\n",
       "\t 1 & 2\\\\\n",
       "\\end{tabular}\n"
      ],
      "text/markdown": [
       "\n",
       "var1 | var2 | \n",
       "|---|---|---|\n",
       "| 1 | 2 | \n",
       "| 2 | 3 | \n",
       "| 1 | 2 | \n",
       "\n",
       "\n"
      ],
      "text/plain": [
       "  var1 var2\n",
       "1 1    2   \n",
       "2 2    3   \n",
       "3 1    2   "
      ]
     },
     "metadata": {},
     "output_type": "display_data"
    },
    {
     "data": {
      "text/html": [
       "<table>\n",
       "<thead><tr><th scope=col>var1</th><th scope=col>v2</th></tr></thead>\n",
       "<tbody>\n",
       "\t<tr><td>1</td><td>2</td></tr>\n",
       "\t<tr><td>2</td><td>3</td></tr>\n",
       "\t<tr><td>1</td><td>2</td></tr>\n",
       "</tbody>\n",
       "</table>\n"
      ],
      "text/latex": [
       "\\begin{tabular}{r|ll}\n",
       " var1 & v2\\\\\n",
       "\\hline\n",
       "\t 1 & 2\\\\\n",
       "\t 2 & 3\\\\\n",
       "\t 1 & 2\\\\\n",
       "\\end{tabular}\n"
      ],
      "text/markdown": [
       "\n",
       "var1 | v2 | \n",
       "|---|---|---|\n",
       "| 1 | 2 | \n",
       "| 2 | 3 | \n",
       "| 1 | 2 | \n",
       "\n",
       "\n"
      ],
      "text/plain": [
       "  var1 v2\n",
       "1 1    2 \n",
       "2 2    3 \n",
       "3 1    2 "
      ]
     },
     "metadata": {},
     "output_type": "display_data"
    }
   ],
   "source": [
    "df_y   <- data.frame(var1 = c(1,2,1), var2 = c(2,3,2))\n",
    "library(dplyr)\n",
    "df_new <- df_y ; df_new\n",
    "df_new <- rename(df_new, v2 = var2)  ; df_new\n",
    "# 특정 컬럼명 변경 : rename(data.Frame, 변경내용 = 원본) cf) 순서에 주의"
   ]
  },
  {
   "cell_type": "code",
   "execution_count": 2,
   "metadata": {},
   "outputs": [
    {
     "data": {
      "text/html": [
       "<table>\n",
       "<thead><tr><th scope=col>var1</th><th scope=col>v2</th><th scope=col>var_sum</th></tr></thead>\n",
       "<tbody>\n",
       "\t<tr><td>1</td><td>2</td><td>3</td></tr>\n",
       "\t<tr><td>2</td><td>3</td><td>5</td></tr>\n",
       "\t<tr><td>1</td><td>2</td><td>3</td></tr>\n",
       "</tbody>\n",
       "</table>\n"
      ],
      "text/latex": [
       "\\begin{tabular}{r|lll}\n",
       " var1 & v2 & var\\_sum\\\\\n",
       "\\hline\n",
       "\t 1 & 2 & 3\\\\\n",
       "\t 2 & 3 & 5\\\\\n",
       "\t 1 & 2 & 3\\\\\n",
       "\\end{tabular}\n"
      ],
      "text/markdown": [
       "\n",
       "var1 | v2 | var_sum | \n",
       "|---|---|---|\n",
       "| 1 | 2 | 3 | \n",
       "| 2 | 3 | 5 | \n",
       "| 1 | 2 | 3 | \n",
       "\n",
       "\n"
      ],
      "text/plain": [
       "  var1 v2 var_sum\n",
       "1 1    2  3      \n",
       "2 2    3  5      \n",
       "3 1    2  3      "
      ]
     },
     "metadata": {},
     "output_type": "display_data"
    }
   ],
   "source": [
    "df_new$var_sum <- df_new$var1 + df_new$v2  # 파생컬럼 생성\n",
    "df_new"
   ]
  },
  {
   "cell_type": "code",
   "execution_count": 3,
   "metadata": {},
   "outputs": [
    {
     "data": {
      "text/html": [
       "<ol class=list-inline>\n",
       "\t<li>3</li>\n",
       "\t<li>5</li>\n",
       "\t<li>3</li>\n",
       "</ol>\n"
      ],
      "text/latex": [
       "\\begin{enumerate*}\n",
       "\\item 3\n",
       "\\item 5\n",
       "\\item 3\n",
       "\\end{enumerate*}\n"
      ],
      "text/markdown": [
       "1. 3\n",
       "2. 5\n",
       "3. 3\n",
       "\n",
       "\n"
      ],
      "text/plain": [
       "[1] 3 5 3"
      ]
     },
     "metadata": {},
     "output_type": "display_data"
    },
    {
     "data": {
      "text/html": [
       "<dl class=dl-horizontal>\n",
       "\t<dt>var1</dt>\n",
       "\t\t<dd>4</dd>\n",
       "\t<dt>v2</dt>\n",
       "\t\t<dd>7</dd>\n",
       "\t<dt>var_sum</dt>\n",
       "\t\t<dd>11</dd>\n",
       "</dl>\n"
      ],
      "text/latex": [
       "\\begin{description*}\n",
       "\\item[var1] 4\n",
       "\\item[v2] 7\n",
       "\\item[var\\textbackslash{}\\_sum] 11\n",
       "\\end{description*}\n"
      ],
      "text/markdown": [
       "var1\n",
       ":   4v2\n",
       ":   7var_sum\n",
       ":   11\n",
       "\n"
      ],
      "text/plain": [
       "   var1      v2 var_sum \n",
       "      4       7      11 "
      ]
     },
     "metadata": {},
     "output_type": "display_data"
    }
   ],
   "source": [
    "df_new$var1 + df_new$v2   # data.frame의 연산 : 기본사칙연산 (index기준 개별연산)\n",
    "colSums(df_new)           # 필드별 연산 "
   ]
  },
  {
   "cell_type": "code",
   "execution_count": 4,
   "metadata": {},
   "outputs": [
    {
     "data": {
      "text/html": [
       "<table>\n",
       "<thead><tr><th scope=col>col1</th><th scope=col>col2</th><th scope=col>NA</th></tr></thead>\n",
       "<tbody>\n",
       "\t<tr><td>1</td><td>2</td><td>3</td></tr>\n",
       "\t<tr><td>2</td><td>3</td><td>5</td></tr>\n",
       "\t<tr><td>1</td><td>2</td><td>3</td></tr>\n",
       "</tbody>\n",
       "</table>\n"
      ],
      "text/latex": [
       "\\begin{tabular}{r|lll}\n",
       " col1 & col2 & NA\\\\\n",
       "\\hline\n",
       "\t 1 & 2 & 3\\\\\n",
       "\t 2 & 3 & 5\\\\\n",
       "\t 1 & 2 & 3\\\\\n",
       "\\end{tabular}\n"
      ],
      "text/markdown": [
       "\n",
       "col1 | col2 | NA | \n",
       "|---|---|---|\n",
       "| 1 | 2 | 3 | \n",
       "| 2 | 3 | 5 | \n",
       "| 1 | 2 | 3 | \n",
       "\n",
       "\n"
      ],
      "text/plain": [
       "  col1 col2 <NA>\n",
       "1 1    2    3   \n",
       "2 2    3    5   \n",
       "3 1    2    3   "
      ]
     },
     "metadata": {},
     "output_type": "display_data"
    }
   ],
   "source": [
    "# 컬럼명 전체 변경\n",
    "colnames(df_new) = c('col1', 'col2') ; df_new"
   ]
  },
  {
   "cell_type": "markdown",
   "metadata": {},
   "source": [
    "<br>\n",
    "## <strong>2 파생변수 생성"
   ]
  },
  {
   "cell_type": "code",
   "execution_count": 5,
   "metadata": {},
   "outputs": [
    {
     "data": {
      "text/html": [
       "<ol class=list-inline>\n",
       "\t<li>'tbl_df'</li>\n",
       "\t<li>'tbl'</li>\n",
       "\t<li>'data.frame'</li>\n",
       "</ol>\n"
      ],
      "text/latex": [
       "\\begin{enumerate*}\n",
       "\\item 'tbl\\_df'\n",
       "\\item 'tbl'\n",
       "\\item 'data.frame'\n",
       "\\end{enumerate*}\n"
      ],
      "text/markdown": [
       "1. 'tbl_df'\n",
       "2. 'tbl'\n",
       "3. 'data.frame'\n",
       "\n",
       "\n"
      ],
      "text/plain": [
       "[1] \"tbl_df\"     \"tbl\"        \"data.frame\""
      ]
     },
     "metadata": {},
     "output_type": "display_data"
    },
    {
     "data": {
      "text/plain": [
       " manufacturer          model               displ            year     \n",
       " Length:234         Length:234         Min.   :1.600   Min.   :1999  \n",
       " Class :character   Class :character   1st Qu.:2.400   1st Qu.:1999  \n",
       " Mode  :character   Mode  :character   Median :3.300   Median :2004  \n",
       "                                       Mean   :3.472   Mean   :2004  \n",
       "                                       3rd Qu.:4.600   3rd Qu.:2008  \n",
       "                                       Max.   :7.000   Max.   :2008  \n",
       "      cyl           trans               drv                 cty       \n",
       " Min.   :4.000   Length:234         Length:234         Min.   : 9.00  \n",
       " 1st Qu.:4.000   Class :character   Class :character   1st Qu.:14.00  \n",
       " Median :6.000   Mode  :character   Mode  :character   Median :17.00  \n",
       " Mean   :5.889                                         Mean   :16.86  \n",
       " 3rd Qu.:8.000                                         3rd Qu.:19.00  \n",
       " Max.   :8.000                                         Max.   :35.00  \n",
       "      hwy             fl               class          \n",
       " Min.   :12.00   Length:234         Length:234        \n",
       " 1st Qu.:18.00   Class :character   Class :character  \n",
       " Median :24.00   Mode  :character   Mode  :character  \n",
       " Mean   :23.44                                        \n",
       " 3rd Qu.:27.00                                        \n",
       " Max.   :44.00                                        "
      ]
     },
     "metadata": {},
     "output_type": "display_data"
    }
   ],
   "source": [
    "library(ggplot2)\n",
    "class(mpg)                  # 자료가 3가지 형태를 갖는다 : 'tbl_df' 'tbl' 'data.frame'\n",
    "mpg <- data.frame(mpg)\n",
    "summary(mpg)                # 데이터의 요약"
   ]
  },
  {
   "cell_type": "code",
   "execution_count": 6,
   "metadata": {},
   "outputs": [
    {
     "data": {
      "image/png": "[encoded data removed]",
      "text/plain": [
       "Plot with title “Histogram of mpg$total”"
      ]
     },
     "metadata": {},
     "output_type": "display_data"
    }
   ],
   "source": [
    "# ggplot 의 출력 크기를 정의\n",
    "library(repr)\n",
    "options(repr.plot.width = 3, repr.plot.height = 2)  \n",
    "\n",
    "mpg$total <- mpg$cty + mpg$hwy   # 파생열 (사칙연산 활용)\n",
    "hist(mpg$total)"
   ]
  },
  {
   "cell_type": "code",
   "execution_count": 7,
   "metadata": {},
   "outputs": [
    {
     "data": {
      "text/html": [
       "<ol class=list-inline>\n",
       "\t<li>'f'</li>\n",
       "\t<li>'p'</li>\n",
       "\t<li>'p'</li>\n",
       "\t<li>'p'</li>\n",
       "\t<li>'f'</li>\n",
       "\t<li>'f'</li>\n",
       "\t<li>'f'</li>\n",
       "\t<li>'f'</li>\n",
       "\t<li>'f'</li>\n",
       "\t<li>'f'</li>\n",
       "\t<li>'f'</li>\n",
       "\t<li>'f'</li>\n",
       "\t<li>'f'</li>\n",
       "\t<li>'f'</li>\n",
       "\t<li>'f'</li>\n",
       "\t<li>'f'</li>\n",
       "\t<li>'f'</li>\n",
       "\t<li>'f'</li>\n",
       "\t<li>'f'</li>\n",
       "\t<li>'f'</li>\n",
       "</ol>\n"
      ],
      "text/latex": [
       "\\begin{enumerate*}\n",
       "\\item 'f'\n",
       "\\item 'p'\n",
       "\\item 'p'\n",
       "\\item 'p'\n",
       "\\item 'f'\n",
       "\\item 'f'\n",
       "\\item 'f'\n",
       "\\item 'f'\n",
       "\\item 'f'\n",
       "\\item 'f'\n",
       "\\item 'f'\n",
       "\\item 'f'\n",
       "\\item 'f'\n",
       "\\item 'f'\n",
       "\\item 'f'\n",
       "\\item 'f'\n",
       "\\item 'f'\n",
       "\\item 'f'\n",
       "\\item 'f'\n",
       "\\item 'f'\n",
       "\\end{enumerate*}\n"
      ],
      "text/markdown": [
       "1. 'f'\n",
       "2. 'p'\n",
       "3. 'p'\n",
       "4. 'p'\n",
       "5. 'f'\n",
       "6. 'f'\n",
       "7. 'f'\n",
       "8. 'f'\n",
       "9. 'f'\n",
       "10. 'f'\n",
       "11. 'f'\n",
       "12. 'f'\n",
       "13. 'f'\n",
       "14. 'f'\n",
       "15. 'f'\n",
       "16. 'f'\n",
       "17. 'f'\n",
       "18. 'f'\n",
       "19. 'f'\n",
       "20. 'f'\n",
       "\n",
       "\n"
      ],
      "text/plain": [
       " [1] \"f\" \"p\" \"p\" \"p\" \"f\" \"f\" \"f\" \"f\" \"f\" \"f\" \"f\" \"f\" \"f\" \"f\" \"f\" \"f\" \"f\" \"f\" \"f\"\n",
       "[20] \"f\""
      ]
     },
     "metadata": {},
     "output_type": "display_data"
    },
    {
     "data": {
      "text/plain": [
       "\n",
       "  f   p \n",
       "191  43 "
      ]
     },
     "metadata": {},
     "output_type": "display_data"
    },
    {
     "data": {},
     "metadata": {},
     "output_type": "display_data"
    },
    {
     "data": {
      "image/png": "[encoded data removed]",
      "text/plain": [
       "plot without title"
      ]
     },
     "metadata": {},
     "output_type": "display_data"
    }
   ],
   "source": [
    "mpg$test <- ifelse(mpg$total>=50, \"p\", \"f\")   # 파생열 (조건문 활용)\n",
    "head(mpg$test, 20)                            # 파생으로 생성된 Vector 출력\n",
    "table(mpg$test)                               # table() : value_counts\n",
    "qplot(mpg$test)                               # 데이터 빈도를 시각화"
   ]
  },
  {
   "cell_type": "code",
   "execution_count": 8,
   "metadata": {},
   "outputs": [
    {
     "data": {
      "text/plain": [
       "\n",
       "  A   B   C \n",
       "204  25   5 "
      ]
     },
     "metadata": {},
     "output_type": "display_data"
    }
   ],
   "source": [
    "mpg$grade <- ifelse(mpg$total>= 30, \"A\",      # 파생열 (조건문 중복활용)\n",
    "                    ifelse(mpg$total>=25,\"B\",\n",
    "                           ifelse(mpg$total>=20,\"C\",\"D\")))\n",
    "table(mpg$grade)"
   ]
  },
  {
   "cell_type": "markdown",
   "metadata": {},
   "source": [
    "<br>\n",
    "## <strong>3 분석의 기초 맛보기 "
   ]
  },
  {
   "cell_type": "code",
   "execution_count": 9,
   "metadata": {},
   "outputs": [
    {
     "data": {
      "text/html": [
       "<table>\n",
       "<thead><tr><th scope=col>PID</th><th scope=col>county</th><th scope=col>state</th><th scope=col>area</th><th scope=col>poptotal</th><th scope=col>popdensity</th><th scope=col>popwhite</th><th scope=col>popblack</th><th scope=col>popamerindian</th><th scope=col>popasian</th><th scope=col>⋯</th><th scope=col>percollege</th><th scope=col>percprof</th><th scope=col>poppovertyknown</th><th scope=col>percpovertyknown</th><th scope=col>percbelowpoverty</th><th scope=col>percchildbelowpovert</th><th scope=col>percadultpoverty</th><th scope=col>percelderlypoverty</th><th scope=col>inmetro</th><th scope=col>category</th></tr></thead>\n",
       "<tbody>\n",
       "\t<tr><td>561      </td><td>ADAMS    </td><td>IL       </td><td>0.052    </td><td>66090    </td><td>1270.9615</td><td>63917    </td><td>1702     </td><td>98       </td><td>249      </td><td>⋯        </td><td>19.63139 </td><td>4.355859 </td><td>63628    </td><td>96.27478 </td><td>13.15144 </td><td>18.01172 </td><td>11.00978 </td><td>12.44381 </td><td>0        </td><td>AAR      </td></tr>\n",
       "\t<tr><td>562      </td><td>ALEXANDER</td><td>IL       </td><td>0.014    </td><td>10626    </td><td> 759.0000</td><td> 7054    </td><td>3496     </td><td>19       </td><td> 48      </td><td>⋯        </td><td>11.24331 </td><td>2.870315 </td><td>10529    </td><td>99.08714 </td><td>32.24428 </td><td>45.82651 </td><td>27.38565 </td><td>25.22898 </td><td>0        </td><td>LHR      </td></tr>\n",
       "\t<tr><td>563      </td><td>BOND     </td><td>IL       </td><td>0.022    </td><td>14991    </td><td> 681.4091</td><td>14477    </td><td> 429     </td><td>35       </td><td> 16      </td><td>⋯        </td><td>17.03382 </td><td>4.488572 </td><td>14235    </td><td>94.95697 </td><td>12.06884 </td><td>14.03606 </td><td>10.85209 </td><td>12.69741 </td><td>0        </td><td>AAR      </td></tr>\n",
       "</tbody>\n",
       "</table>\n"
      ],
      "text/latex": [
       "\\begin{tabular}{r|llllllllllllllllllllllllllll}\n",
       " PID & county & state & area & poptotal & popdensity & popwhite & popblack & popamerindian & popasian & ⋯ & percollege & percprof & poppovertyknown & percpovertyknown & percbelowpoverty & percchildbelowpovert & percadultpoverty & percelderlypoverty & inmetro & category\\\\\n",
       "\\hline\n",
       "\t 561       & ADAMS     & IL        & 0.052     & 66090     & 1270.9615 & 63917     & 1702      & 98        & 249       & ⋯         & 19.63139  & 4.355859  & 63628     & 96.27478  & 13.15144  & 18.01172  & 11.00978  & 12.44381  & 0         & AAR      \\\\\n",
       "\t 562       & ALEXANDER & IL        & 0.014     & 10626     &  759.0000 &  7054     & 3496      & 19        &  48       & ⋯         & 11.24331  & 2.870315  & 10529     & 99.08714  & 32.24428  & 45.82651  & 27.38565  & 25.22898  & 0         & LHR      \\\\\n",
       "\t 563       & BOND      & IL        & 0.022     & 14991     &  681.4091 & 14477     &  429      & 35        &  16       & ⋯         & 17.03382  & 4.488572  & 14235     & 94.95697  & 12.06884  & 14.03606  & 10.85209  & 12.69741  & 0         & AAR      \\\\\n",
       "\\end{tabular}\n"
      ],
      "text/markdown": [
       "\n",
       "PID | county | state | area | poptotal | popdensity | popwhite | popblack | popamerindian | popasian | ⋯ | percollege | percprof | poppovertyknown | percpovertyknown | percbelowpoverty | percchildbelowpovert | percadultpoverty | percelderlypoverty | inmetro | category | \n",
       "|---|---|---|\n",
       "| 561       | ADAMS     | IL        | 0.052     | 66090     | 1270.9615 | 63917     | 1702      | 98        | 249       | ⋯         | 19.63139  | 4.355859  | 63628     | 96.27478  | 13.15144  | 18.01172  | 11.00978  | 12.44381  | 0         | AAR       | \n",
       "| 562       | ALEXANDER | IL        | 0.014     | 10626     |  759.0000 |  7054     | 3496      | 19        |  48       | ⋯         | 11.24331  | 2.870315  | 10529     | 99.08714  | 32.24428  | 45.82651  | 27.38565  | 25.22898  | 0         | LHR       | \n",
       "| 563       | BOND      | IL        | 0.022     | 14991     |  681.4091 | 14477     |  429      | 35        |  16       | ⋯         | 17.03382  | 4.488572  | 14235     | 94.95697  | 12.06884  | 14.03606  | 10.85209  | 12.69741  | 0         | AAR       | \n",
       "\n",
       "\n"
      ],
      "text/plain": [
       "  PID county    state area  poptotal popdensity popwhite popblack popamerindian\n",
       "1 561 ADAMS     IL    0.052 66090    1270.9615  63917    1702     98           \n",
       "2 562 ALEXANDER IL    0.014 10626     759.0000   7054    3496     19           \n",
       "3 563 BOND      IL    0.022 14991     681.4091  14477     429     35           \n",
       "  popasian ⋯ percollege percprof poppovertyknown percpovertyknown\n",
       "1 249      ⋯ 19.63139   4.355859 63628           96.27478        \n",
       "2  48      ⋯ 11.24331   2.870315 10529           99.08714        \n",
       "3  16      ⋯ 17.03382   4.488572 14235           94.95697        \n",
       "  percbelowpoverty percchildbelowpovert percadultpoverty percelderlypoverty\n",
       "1 13.15144         18.01172             11.00978         12.44381          \n",
       "2 32.24428         45.82651             27.38565         25.22898          \n",
       "3 12.06884         14.03606             10.85209         12.69741          \n",
       "  inmetro category\n",
       "1 0       AAR     \n",
       "2 0       LHR     \n",
       "3 0       AAR     "
      ]
     },
     "metadata": {},
     "output_type": "display_data"
    },
    {
     "data": {
      "text/html": [
       "0.487246183435734"
      ],
      "text/latex": [
       "0.487246183435734"
      ],
      "text/markdown": [
       "0.487246183435734"
      ],
      "text/plain": [
       "[1] 0.4872462"
      ]
     },
     "metadata": {},
     "output_type": "display_data"
    }
   ],
   "source": [
    "popl <- midwest\n",
    "head(popl, 3)\n",
    "\n",
    "popl      <- rename(popl, total = poptotal, asian = popasian)  # 컬럼명 변경\n",
    "popl$var1 <- (popl$asian / popl$total) * 100                      # 변경된 컬럼으로 비율을 계산\n",
    "mean(popl$var1, rm=is.na())                                     # 전체 평균을 계산"
   ]
  },
  {
   "cell_type": "markdown",
   "metadata": {},
   "source": [
    "<br>\n",
    "## <strong>4 filter 와 %>% 활용\n",
    "### <strong>01 조건에 맞는 데이터 추출하기"
   ]
  },
  {
   "cell_type": "code",
   "execution_count": 10,
   "metadata": {},
   "outputs": [
    {
     "data": {
      "text/html": [
       "'/home/markbaum/Python/Source/R'"
      ],
      "text/latex": [
       "'/home/markbaum/Python/Source/R'"
      ],
      "text/markdown": [
       "'/home/markbaum/Python/Source/R'"
      ],
      "text/plain": [
       "[1] \"/home/markbaum/Python/Source/R\""
      ]
     },
     "metadata": {},
     "output_type": "display_data"
    },
    {
     "data": {
      "text/html": [
       "'/home/markbaum/Python/Source/R/data'"
      ],
      "text/latex": [
       "'/home/markbaum/Python/Source/R/data'"
      ],
      "text/markdown": [
       "'/home/markbaum/Python/Source/R/data'"
      ],
      "text/plain": [
       "[1] \"/home/markbaum/Python/Source/R/data\""
      ]
     },
     "metadata": {},
     "output_type": "display_data"
    },
    {
     "name": "stdout",
     "output_type": "stream",
     "text": [
      "'data.frame':\t20 obs. of  5 variables:\n",
      " $ id     : int  1 2 3 4 5 6 7 8 9 10 ...\n",
      " $ class  : int  1 1 1 1 2 2 2 2 3 3 ...\n",
      " $ math   : int  50 60 45 30 25 50 80 90 20 50 ...\n",
      " $ english: int  98 97 86 98 80 89 90 78 98 98 ...\n",
      " $ science: int  50 60 78 58 65 98 45 25 15 45 ...\n"
     ]
    }
   ],
   "source": [
    "# 작업 폴더의 변경\n",
    "getwd()\n",
    "setwd('/home/markbaum/Python/Source/R/data'); getwd()\n",
    "exam <- read.csv('csv_exam.csv')    # CSV 파일 불러오기\n",
    "str(exam)"
   ]
  },
  {
   "cell_type": "code",
   "execution_count": 11,
   "metadata": {},
   "outputs": [
    {
     "data": {
      "text/html": [
       "<table>\n",
       "<thead><tr><th scope=col>id</th><th scope=col>class</th><th scope=col>math</th><th scope=col>english</th><th scope=col>science</th></tr></thead>\n",
       "<tbody>\n",
       "\t<tr><td>1 </td><td>1 </td><td>50</td><td>98</td><td>50</td></tr>\n",
       "\t<tr><td>2 </td><td>1 </td><td>60</td><td>97</td><td>60</td></tr>\n",
       "\t<tr><td>3 </td><td>1 </td><td>45</td><td>86</td><td>78</td></tr>\n",
       "\t<tr><td>4 </td><td>1 </td><td>30</td><td>98</td><td>58</td></tr>\n",
       "</tbody>\n",
       "</table>\n"
      ],
      "text/latex": [
       "\\begin{tabular}{r|lllll}\n",
       " id & class & math & english & science\\\\\n",
       "\\hline\n",
       "\t 1  & 1  & 50 & 98 & 50\\\\\n",
       "\t 2  & 1  & 60 & 97 & 60\\\\\n",
       "\t 3  & 1  & 45 & 86 & 78\\\\\n",
       "\t 4  & 1  & 30 & 98 & 58\\\\\n",
       "\\end{tabular}\n"
      ],
      "text/markdown": [
       "\n",
       "id | class | math | english | science | \n",
       "|---|---|---|---|\n",
       "| 1  | 1  | 50 | 98 | 50 | \n",
       "| 2  | 1  | 60 | 97 | 60 | \n",
       "| 3  | 1  | 45 | 86 | 78 | \n",
       "| 4  | 1  | 30 | 98 | 58 | \n",
       "\n",
       "\n"
      ],
      "text/plain": [
       "  id class math english science\n",
       "1 1  1     50   98      50     \n",
       "2 2  1     60   97      60     \n",
       "3 3  1     45   86      78     \n",
       "4 4  1     30   98      58     "
      ]
     },
     "metadata": {},
     "output_type": "display_data"
    },
    {
     "data": {
      "text/html": [
       "<table>\n",
       "<thead><tr><th scope=col>id</th><th scope=col>class</th><th scope=col>math</th><th scope=col>english</th><th scope=col>science</th></tr></thead>\n",
       "<tbody>\n",
       "\t<tr><td>1 </td><td>1 </td><td>50</td><td>98</td><td>50</td></tr>\n",
       "\t<tr><td>2 </td><td>1 </td><td>60</td><td>97</td><td>60</td></tr>\n",
       "\t<tr><td>3 </td><td>1 </td><td>45</td><td>86</td><td>78</td></tr>\n",
       "\t<tr><td>4 </td><td>1 </td><td>30</td><td>98</td><td>58</td></tr>\n",
       "</tbody>\n",
       "</table>\n"
      ],
      "text/latex": [
       "\\begin{tabular}{r|lllll}\n",
       " id & class & math & english & science\\\\\n",
       "\\hline\n",
       "\t 1  & 1  & 50 & 98 & 50\\\\\n",
       "\t 2  & 1  & 60 & 97 & 60\\\\\n",
       "\t 3  & 1  & 45 & 86 & 78\\\\\n",
       "\t 4  & 1  & 30 & 98 & 58\\\\\n",
       "\\end{tabular}\n"
      ],
      "text/markdown": [
       "\n",
       "id | class | math | english | science | \n",
       "|---|---|---|---|\n",
       "| 1  | 1  | 50 | 98 | 50 | \n",
       "| 2  | 1  | 60 | 97 | 60 | \n",
       "| 3  | 1  | 45 | 86 | 78 | \n",
       "| 4  | 1  | 30 | 98 | 58 | \n",
       "\n",
       "\n"
      ],
      "text/plain": [
       "  id class math english science\n",
       "1 1  1     50   98      50     \n",
       "2 2  1     60   97      60     \n",
       "3 3  1     45   86      78     \n",
       "4 4  1     30   98      58     "
      ]
     },
     "metadata": {},
     "output_type": "display_data"
    }
   ],
   "source": [
    "# 1 filter\n",
    "library(dplyr)\n",
    "filter(exam, class == 1)       # class 가 1인 데이터만 출력\n",
    "exam %>% filter(class == 1)    # %>% : 1줄로 attach를 실행시 활용"
   ]
  },
  {
   "cell_type": "code",
   "execution_count": 12,
   "metadata": {},
   "outputs": [
    {
     "data": {
      "text/html": [
       "<table>\n",
       "<thead><tr><th scope=col>id</th><th scope=col>class</th><th scope=col>math</th><th scope=col>english</th><th scope=col>science</th></tr></thead>\n",
       "<tbody>\n",
       "\t<tr><td>2 </td><td>1 </td><td>60</td><td>97</td><td>60</td></tr>\n",
       "\t<tr><td>7 </td><td>2 </td><td>80</td><td>90</td><td>45</td></tr>\n",
       "\t<tr><td>8 </td><td>2 </td><td>90</td><td>78</td><td>25</td></tr>\n",
       "</tbody>\n",
       "</table>\n"
      ],
      "text/latex": [
       "\\begin{tabular}{r|lllll}\n",
       " id & class & math & english & science\\\\\n",
       "\\hline\n",
       "\t 2  & 1  & 60 & 97 & 60\\\\\n",
       "\t 7  & 2  & 80 & 90 & 45\\\\\n",
       "\t 8  & 2  & 90 & 78 & 25\\\\\n",
       "\\end{tabular}\n"
      ],
      "text/markdown": [
       "\n",
       "id | class | math | english | science | \n",
       "|---|---|---|\n",
       "| 2  | 1  | 60 | 97 | 60 | \n",
       "| 7  | 2  | 80 | 90 | 45 | \n",
       "| 8  | 2  | 90 | 78 | 25 | \n",
       "\n",
       "\n"
      ],
      "text/plain": [
       "  id class math english science\n",
       "1 2  1     60   97      60     \n",
       "2 7  2     80   90      45     \n",
       "3 8  2     90   78      25     "
      ]
     },
     "metadata": {},
     "output_type": "display_data"
    }
   ],
   "source": [
    "# >, <, >=, <= : 초과, 미만, 이상, 이하의 조건걸기\n",
    "df <- exam %>% filter(math > 50)\n",
    "head(df, 3)"
   ]
  },
  {
   "cell_type": "code",
   "execution_count": 13,
   "metadata": {},
   "outputs": [
    {
     "data": {
      "text/html": [
       "<table>\n",
       "<thead><tr><th scope=col>id</th><th scope=col>class</th><th scope=col>math</th><th scope=col>english</th><th scope=col>science</th></tr></thead>\n",
       "<tbody>\n",
       "\t<tr><td> 9</td><td>3 </td><td>20</td><td>98</td><td>15</td></tr>\n",
       "\t<tr><td>10</td><td>3 </td><td>50</td><td>98</td><td>45</td></tr>\n",
       "\t<tr><td>11</td><td>3 </td><td>65</td><td>65</td><td>65</td></tr>\n",
       "</tbody>\n",
       "</table>\n"
      ],
      "text/latex": [
       "\\begin{tabular}{r|lllll}\n",
       " id & class & math & english & science\\\\\n",
       "\\hline\n",
       "\t  9 & 3  & 20 & 98 & 15\\\\\n",
       "\t 10 & 3  & 50 & 98 & 45\\\\\n",
       "\t 11 & 3  & 65 & 65 & 65\\\\\n",
       "\\end{tabular}\n"
      ],
      "text/markdown": [
       "\n",
       "id | class | math | english | science | \n",
       "|---|---|---|\n",
       "|  9 | 3  | 20 | 98 | 15 | \n",
       "| 10 | 3  | 50 | 98 | 45 | \n",
       "| 11 | 3  | 65 | 65 | 65 | \n",
       "\n",
       "\n"
      ],
      "text/plain": [
       "  id class math english science\n",
       "1  9 3     20   98      15     \n",
       "2 10 3     50   98      45     \n",
       "3 11 3     65   65      65     "
      ]
     },
     "metadata": {},
     "output_type": "display_data"
    },
    {
     "data": {
      "text/html": [
       "<table>\n",
       "<thead><tr><th scope=col>id</th><th scope=col>class</th><th scope=col>math</th><th scope=col>english</th><th scope=col>science</th></tr></thead>\n",
       "<tbody>\n",
       "\t<tr><td> 9</td><td>3 </td><td>20</td><td>98</td><td>15</td></tr>\n",
       "\t<tr><td>10</td><td>3 </td><td>50</td><td>98</td><td>45</td></tr>\n",
       "\t<tr><td>11</td><td>3 </td><td>65</td><td>65</td><td>65</td></tr>\n",
       "</tbody>\n",
       "</table>\n"
      ],
      "text/latex": [
       "\\begin{tabular}{r|lllll}\n",
       " id & class & math & english & science\\\\\n",
       "\\hline\n",
       "\t  9 & 3  & 20 & 98 & 15\\\\\n",
       "\t 10 & 3  & 50 & 98 & 45\\\\\n",
       "\t 11 & 3  & 65 & 65 & 65\\\\\n",
       "\\end{tabular}\n"
      ],
      "text/markdown": [
       "\n",
       "id | class | math | english | science | \n",
       "|---|---|---|\n",
       "|  9 | 3  | 20 | 98 | 15 | \n",
       "| 10 | 3  | 50 | 98 | 45 | \n",
       "| 11 | 3  | 65 | 65 | 65 | \n",
       "\n",
       "\n"
      ],
      "text/plain": [
       "  id class math english science\n",
       "1  9 3     20   98      15     \n",
       "2 10 3     50   98      45     \n",
       "3 11 3     65   65      65     "
      ]
     },
     "metadata": {},
     "output_type": "display_data"
    }
   ],
   "source": [
    "# and 조건 : ',' , '&'\n",
    "df1 <- exam %>% filter(class != 1 , class != 2)   # class 가 1, 2가 아닌 데이터만 출력\n",
    "df2 <- exam %>% filter(class != 1 & class != 2)   # (위와 동일)\n",
    "head(df1, 3)\n",
    "head(df2, 3)"
   ]
  },
  {
   "cell_type": "code",
   "execution_count": 14,
   "metadata": {},
   "outputs": [
    {
     "data": {
      "text/html": [
       "<table>\n",
       "<thead><tr><th scope=col>id</th><th scope=col>class</th><th scope=col>math</th><th scope=col>english</th><th scope=col>science</th></tr></thead>\n",
       "<tbody>\n",
       "\t<tr><td>1 </td><td>1 </td><td>50</td><td>98</td><td>50</td></tr>\n",
       "\t<tr><td>2 </td><td>1 </td><td>60</td><td>97</td><td>60</td></tr>\n",
       "\t<tr><td>4 </td><td>1 </td><td>30</td><td>98</td><td>58</td></tr>\n",
       "</tbody>\n",
       "</table>\n"
      ],
      "text/latex": [
       "\\begin{tabular}{r|lllll}\n",
       " id & class & math & english & science\\\\\n",
       "\\hline\n",
       "\t 1  & 1  & 50 & 98 & 50\\\\\n",
       "\t 2  & 1  & 60 & 97 & 60\\\\\n",
       "\t 4  & 1  & 30 & 98 & 58\\\\\n",
       "\\end{tabular}\n"
      ],
      "text/markdown": [
       "\n",
       "id | class | math | english | science | \n",
       "|---|---|---|\n",
       "| 1  | 1  | 50 | 98 | 50 | \n",
       "| 2  | 1  | 60 | 97 | 60 | \n",
       "| 4  | 1  | 30 | 98 | 58 | \n",
       "\n",
       "\n"
      ],
      "text/plain": [
       "  id class math english science\n",
       "1 1  1     50   98      50     \n",
       "2 2  1     60   97      60     \n",
       "3 4  1     30   98      58     "
      ]
     },
     "metadata": {},
     "output_type": "display_data"
    },
    {
     "data": {
      "text/html": [
       "<table>\n",
       "<thead><tr><th scope=col>id</th><th scope=col>class</th><th scope=col>math</th><th scope=col>english</th><th scope=col>science</th></tr></thead>\n",
       "<tbody>\n",
       "\t<tr><td>3 </td><td>1 </td><td>45</td><td>86</td><td>78</td></tr>\n",
       "\t<tr><td>5 </td><td>2 </td><td>25</td><td>80</td><td>65</td></tr>\n",
       "\t<tr><td>6 </td><td>2 </td><td>50</td><td>89</td><td>98</td></tr>\n",
       "</tbody>\n",
       "</table>\n"
      ],
      "text/latex": [
       "\\begin{tabular}{r|lllll}\n",
       " id & class & math & english & science\\\\\n",
       "\\hline\n",
       "\t 3  & 1  & 45 & 86 & 78\\\\\n",
       "\t 5  & 2  & 25 & 80 & 65\\\\\n",
       "\t 6  & 2  & 50 & 89 & 98\\\\\n",
       "\\end{tabular}\n"
      ],
      "text/markdown": [
       "\n",
       "id | class | math | english | science | \n",
       "|---|---|---|\n",
       "| 3  | 1  | 45 | 86 | 78 | \n",
       "| 5  | 2  | 25 | 80 | 65 | \n",
       "| 6  | 2  | 50 | 89 | 98 | \n",
       "\n",
       "\n"
      ],
      "text/plain": [
       "  id class math english science\n",
       "1 3  1     45   86      78     \n",
       "2 5  2     25   80      65     \n",
       "3 6  2     50   89      98     "
      ]
     },
     "metadata": {},
     "output_type": "display_data"
    },
    {
     "data": {
      "text/html": [
       "<table>\n",
       "<thead><tr><th scope=col>id</th><th scope=col>class</th><th scope=col>math</th><th scope=col>english</th><th scope=col>science</th></tr></thead>\n",
       "<tbody>\n",
       "\t<tr><td>1 </td><td>1 </td><td>50</td><td>98</td><td>50</td></tr>\n",
       "\t<tr><td>2 </td><td>1 </td><td>60</td><td>97</td><td>60</td></tr>\n",
       "\t<tr><td>3 </td><td>1 </td><td>45</td><td>86</td><td>78</td></tr>\n",
       "</tbody>\n",
       "</table>\n"
      ],
      "text/latex": [
       "\\begin{tabular}{r|lllll}\n",
       " id & class & math & english & science\\\\\n",
       "\\hline\n",
       "\t 1  & 1  & 50 & 98 & 50\\\\\n",
       "\t 2  & 1  & 60 & 97 & 60\\\\\n",
       "\t 3  & 1  & 45 & 86 & 78\\\\\n",
       "\\end{tabular}\n"
      ],
      "text/markdown": [
       "\n",
       "id | class | math | english | science | \n",
       "|---|---|---|\n",
       "| 1  | 1  | 50 | 98 | 50 | \n",
       "| 2  | 1  | 60 | 97 | 60 | \n",
       "| 3  | 1  | 45 | 86 | 78 | \n",
       "\n",
       "\n"
      ],
      "text/plain": [
       "  id class math english science\n",
       "1 1  1     50   98      50     \n",
       "2 2  1     60   97      60     \n",
       "3 3  1     45   86      78     "
      ]
     },
     "metadata": {},
     "output_type": "display_data"
    }
   ],
   "source": [
    "# or 조건 : '|', '%in%'\n",
    "df1 <- exam %>% filter(math >= 90   | english >= 90); head(df1, 3)  # 수학이 90 이상  or  영어가 90 이상\n",
    "df2 <- exam %>% filter(english < 90 | science < 50) ; head(df2, 3)  # 영어가 90 미만  or  과학이 50 미만\n",
    "df3 <- exam %>% filter(class %in% c(1,3,5))         ; head(df3, 3)  # class 가 1 or 2 or 3 인 데이터"
   ]
  },
  {
   "cell_type": "code",
   "execution_count": 15,
   "metadata": {},
   "outputs": [
    {
     "data": {
      "text/html": [
       "<table>\n",
       "<thead><tr><th scope=col>class</th><th scope=col>cty</th></tr></thead>\n",
       "<tbody>\n",
       "\t<tr><td>compact</td><td>18     </td></tr>\n",
       "\t<tr><td>compact</td><td>21     </td></tr>\n",
       "\t<tr><td>compact</td><td>20     </td></tr>\n",
       "</tbody>\n",
       "</table>\n"
      ],
      "text/latex": [
       "\\begin{tabular}{r|ll}\n",
       " class & cty\\\\\n",
       "\\hline\n",
       "\t compact & 18     \\\\\n",
       "\t compact & 21     \\\\\n",
       "\t compact & 20     \\\\\n",
       "\\end{tabular}\n"
      ],
      "text/markdown": [
       "\n",
       "class | cty | \n",
       "|---|---|---|\n",
       "| compact | 18      | \n",
       "| compact | 21      | \n",
       "| compact | 20      | \n",
       "\n",
       "\n"
      ],
      "text/plain": [
       "  class   cty\n",
       "1 compact 18 \n",
       "2 compact 21 \n",
       "3 compact 20 "
      ]
     },
     "metadata": {},
     "output_type": "display_data"
    },
    {
     "data": {
      "text/html": [
       "<table>\n",
       "<thead><tr><th scope=col>manufacturer</th><th scope=col>model</th><th scope=col>displ</th><th scope=col>year</th><th scope=col>cyl</th><th scope=col>trans</th><th scope=col>drv</th><th scope=col>cty</th><th scope=col>hwy</th><th scope=col>fl</th><th scope=col>class</th><th scope=col>total</th><th scope=col>test</th><th scope=col>grade</th></tr></thead>\n",
       "<tbody>\n",
       "\t<tr><td>chevrolet         </td><td>c1500 suburban 2wd</td><td>5.3               </td><td>2008              </td><td>8                 </td><td>auto(l4)          </td><td>r                 </td><td>14                </td><td>20                </td><td>r                 </td><td>suv               </td><td>34                </td><td>f                 </td><td>A                 </td></tr>\n",
       "\t<tr><td>chevrolet         </td><td>c1500 suburban 2wd</td><td>5.3               </td><td>2008              </td><td>8                 </td><td>auto(l4)          </td><td>r                 </td><td>11                </td><td>15                </td><td>e                 </td><td>suv               </td><td>26                </td><td>f                 </td><td>B                 </td></tr>\n",
       "\t<tr><td>chevrolet         </td><td>c1500 suburban 2wd</td><td>5.3               </td><td>2008              </td><td>8                 </td><td>auto(l4)          </td><td>r                 </td><td>14                </td><td>20                </td><td>r                 </td><td>suv               </td><td>34                </td><td>f                 </td><td>A                 </td></tr>\n",
       "</tbody>\n",
       "</table>\n"
      ],
      "text/latex": [
       "\\begin{tabular}{r|llllllllllllll}\n",
       " manufacturer & model & displ & year & cyl & trans & drv & cty & hwy & fl & class & total & test & grade\\\\\n",
       "\\hline\n",
       "\t chevrolet          & c1500 suburban 2wd & 5.3                & 2008               & 8                  & auto(l4)           & r                  & 14                 & 20                 & r                  & suv                & 34                 & f                  & A                 \\\\\n",
       "\t chevrolet          & c1500 suburban 2wd & 5.3                & 2008               & 8                  & auto(l4)           & r                  & 11                 & 15                 & e                  & suv                & 26                 & f                  & B                 \\\\\n",
       "\t chevrolet          & c1500 suburban 2wd & 5.3                & 2008               & 8                  & auto(l4)           & r                  & 14                 & 20                 & r                  & suv                & 34                 & f                  & A                 \\\\\n",
       "\\end{tabular}\n"
      ],
      "text/markdown": [
       "\n",
       "manufacturer | model | displ | year | cyl | trans | drv | cty | hwy | fl | class | total | test | grade | \n",
       "|---|---|---|\n",
       "| chevrolet          | c1500 suburban 2wd | 5.3                | 2008               | 8                  | auto(l4)           | r                  | 14                 | 20                 | r                  | suv                | 34                 | f                  | A                  | \n",
       "| chevrolet          | c1500 suburban 2wd | 5.3                | 2008               | 8                  | auto(l4)           | r                  | 11                 | 15                 | e                  | suv                | 26                 | f                  | B                  | \n",
       "| chevrolet          | c1500 suburban 2wd | 5.3                | 2008               | 8                  | auto(l4)           | r                  | 14                 | 20                 | r                  | suv                | 34                 | f                  | A                  | \n",
       "\n",
       "\n"
      ],
      "text/plain": [
       "  manufacturer model              displ year cyl trans    drv cty hwy fl class\n",
       "1 chevrolet    c1500 suburban 2wd 5.3   2008 8   auto(l4) r   14  20  r  suv  \n",
       "2 chevrolet    c1500 suburban 2wd 5.3   2008 8   auto(l4) r   11  15  e  suv  \n",
       "3 chevrolet    c1500 suburban 2wd 5.3   2008 8   auto(l4) r   14  20  r  suv  \n",
       "  total test grade\n",
       "1 34    f    A    \n",
       "2 26    f    B    \n",
       "3 34    f    A    "
      ]
     },
     "metadata": {},
     "output_type": "display_data"
    },
    {
     "data": {
      "text/html": [
       "<table>\n",
       "<thead><tr><th scope=col>manufacturer</th><th scope=col>model</th><th scope=col>displ</th><th scope=col>year</th><th scope=col>cyl</th><th scope=col>trans</th><th scope=col>drv</th><th scope=col>cty</th><th scope=col>hwy</th><th scope=col>fl</th><th scope=col>class</th><th scope=col>total</th><th scope=col>test</th><th scope=col>grade</th></tr></thead>\n",
       "<tbody>\n",
       "\t<tr><td>audi      </td><td>a4        </td><td>1.8       </td><td>1999      </td><td>4         </td><td>auto(l5)  </td><td>f         </td><td>18        </td><td>29        </td><td>p         </td><td>compact   </td><td>47        </td><td>f         </td><td>A         </td></tr>\n",
       "\t<tr><td>audi      </td><td>a4        </td><td>1.8       </td><td>1999      </td><td>4         </td><td>manual(m5)</td><td>f         </td><td>21        </td><td>29        </td><td>p         </td><td>compact   </td><td>50        </td><td>p         </td><td>A         </td></tr>\n",
       "\t<tr><td>audi      </td><td>a4        </td><td>2.0       </td><td>2008      </td><td>4         </td><td>manual(m6)</td><td>f         </td><td>20        </td><td>31        </td><td>p         </td><td>compact   </td><td>51        </td><td>p         </td><td>A         </td></tr>\n",
       "</tbody>\n",
       "</table>\n"
      ],
      "text/latex": [
       "\\begin{tabular}{r|llllllllllllll}\n",
       " manufacturer & model & displ & year & cyl & trans & drv & cty & hwy & fl & class & total & test & grade\\\\\n",
       "\\hline\n",
       "\t audi       & a4         & 1.8        & 1999       & 4          & auto(l5)   & f          & 18         & 29         & p          & compact    & 47         & f          & A         \\\\\n",
       "\t audi       & a4         & 1.8        & 1999       & 4          & manual(m5) & f          & 21         & 29         & p          & compact    & 50         & p          & A         \\\\\n",
       "\t audi       & a4         & 2.0        & 2008       & 4          & manual(m6) & f          & 20         & 31         & p          & compact    & 51         & p          & A         \\\\\n",
       "\\end{tabular}\n"
      ],
      "text/markdown": [
       "\n",
       "manufacturer | model | displ | year | cyl | trans | drv | cty | hwy | fl | class | total | test | grade | \n",
       "|---|---|---|\n",
       "| audi       | a4         | 1.8        | 1999       | 4          | auto(l5)   | f          | 18         | 29         | p          | compact    | 47         | f          | A          | \n",
       "| audi       | a4         | 1.8        | 1999       | 4          | manual(m5) | f          | 21         | 29         | p          | compact    | 50         | p          | A          | \n",
       "| audi       | a4         | 2.0        | 2008       | 4          | manual(m6) | f          | 20         | 31         | p          | compact    | 51         | p          | A          | \n",
       "\n",
       "\n"
      ],
      "text/plain": [
       "  manufacturer model displ year cyl trans      drv cty hwy fl class   total\n",
       "1 audi         a4    1.8   1999 4   auto(l5)   f   18  29  p  compact 47   \n",
       "2 audi         a4    1.8   1999 4   manual(m5) f   21  29  p  compact 50   \n",
       "3 audi         a4    2.0   2008 4   manual(m6) f   20  31  p  compact 51   \n",
       "  test grade\n",
       "1 f    A    \n",
       "2 p    A    \n",
       "3 p    A    "
      ]
     },
     "metadata": {},
     "output_type": "display_data"
    }
   ],
   "source": [
    "# 1. 특정 데이터 추출 \n",
    "df_y       <- select(mpg, \"class\", \"cty\")     ; head(df_y, 3)\n",
    "df_suv     <- filter(mpg, class == \"suv\")     ; head(df_suv, 3)\n",
    "df_compact <- filter(mpg, class == \"compact\") ; head(df_compact, 3)"
   ]
  },
  {
   "cell_type": "code",
   "execution_count": 16,
   "metadata": {},
   "outputs": [
    {
     "data": {
      "text/html": [
       "13.5"
      ],
      "text/latex": [
       "13.5"
      ],
      "text/markdown": [
       "13.5"
      ],
      "text/plain": [
       "[1] 13.5"
      ]
     },
     "metadata": {},
     "output_type": "display_data"
    },
    {
     "data": {
      "text/html": [
       "20.1276595744681"
      ],
      "text/latex": [
       "20.1276595744681"
      ],
      "text/markdown": [
       "20.1276595744681"
      ],
      "text/plain": [
       "[1] 20.12766"
      ]
     },
     "metadata": {},
     "output_type": "display_data"
    }
   ],
   "source": [
    "mean(df_suv$cty)      # SUV의    평균 도시연비\n",
    "mean(df_compact$cty)  # 도시형의 평균 도시연비"
   ]
  },
  {
   "cell_type": "markdown",
   "metadata": {},
   "source": [
    "### <strong>02 필요한 변수만 추출하기\n",
    "수많은 변수 중 일부만 추출"
   ]
  },
  {
   "cell_type": "code",
   "execution_count": 17,
   "metadata": {},
   "outputs": [
    {
     "data": {
      "text/html": [
       "<table>\n",
       "<thead><tr><th scope=col>math</th></tr></thead>\n",
       "<tbody>\n",
       "\t<tr><td>50</td></tr>\n",
       "\t<tr><td>60</td></tr>\n",
       "\t<tr><td>45</td></tr>\n",
       "</tbody>\n",
       "</table>\n"
      ],
      "text/latex": [
       "\\begin{tabular}{r|l}\n",
       " math\\\\\n",
       "\\hline\n",
       "\t 50\\\\\n",
       "\t 60\\\\\n",
       "\t 45\\\\\n",
       "\\end{tabular}\n"
      ],
      "text/markdown": [
       "\n",
       "math | \n",
       "|---|---|---|\n",
       "| 50 | \n",
       "| 60 | \n",
       "| 45 | \n",
       "\n",
       "\n"
      ],
      "text/plain": [
       "  math\n",
       "1 50  \n",
       "2 60  \n",
       "3 45  "
      ]
     },
     "metadata": {},
     "output_type": "display_data"
    },
    {
     "data": {
      "text/html": [
       "<table>\n",
       "<thead><tr><th scope=col>class</th><th scope=col>math</th><th scope=col>english</th></tr></thead>\n",
       "<tbody>\n",
       "\t<tr><td>1 </td><td>50</td><td>98</td></tr>\n",
       "\t<tr><td>1 </td><td>60</td><td>97</td></tr>\n",
       "\t<tr><td>1 </td><td>45</td><td>86</td></tr>\n",
       "</tbody>\n",
       "</table>\n"
      ],
      "text/latex": [
       "\\begin{tabular}{r|lll}\n",
       " class & math & english\\\\\n",
       "\\hline\n",
       "\t 1  & 50 & 98\\\\\n",
       "\t 1  & 60 & 97\\\\\n",
       "\t 1  & 45 & 86\\\\\n",
       "\\end{tabular}\n"
      ],
      "text/markdown": [
       "\n",
       "class | math | english | \n",
       "|---|---|---|\n",
       "| 1  | 50 | 98 | \n",
       "| 1  | 60 | 97 | \n",
       "| 1  | 45 | 86 | \n",
       "\n",
       "\n"
      ],
      "text/plain": [
       "  class math english\n",
       "1 1     50   98     \n",
       "2 1     60   97     \n",
       "3 1     45   86     "
      ]
     },
     "metadata": {},
     "output_type": "display_data"
    },
    {
     "data": {
      "text/html": [
       "<table>\n",
       "<thead><tr><th scope=col>id</th><th scope=col>class</th><th scope=col>science</th></tr></thead>\n",
       "<tbody>\n",
       "\t<tr><td>1 </td><td>1 </td><td>50</td></tr>\n",
       "\t<tr><td>2 </td><td>1 </td><td>60</td></tr>\n",
       "\t<tr><td>3 </td><td>1 </td><td>78</td></tr>\n",
       "\t<tr><td>4 </td><td>1 </td><td>58</td></tr>\n",
       "</tbody>\n",
       "</table>\n"
      ],
      "text/latex": [
       "\\begin{tabular}{r|lll}\n",
       " id & class & science\\\\\n",
       "\\hline\n",
       "\t 1  & 1  & 50\\\\\n",
       "\t 2  & 1  & 60\\\\\n",
       "\t 3  & 1  & 78\\\\\n",
       "\t 4  & 1  & 58\\\\\n",
       "\\end{tabular}\n"
      ],
      "text/markdown": [
       "\n",
       "id | class | science | \n",
       "|---|---|---|---|\n",
       "| 1  | 1  | 50 | \n",
       "| 2  | 1  | 60 | \n",
       "| 3  | 1  | 78 | \n",
       "| 4  | 1  | 58 | \n",
       "\n",
       "\n"
      ],
      "text/plain": [
       "  id class science\n",
       "1 1  1     50     \n",
       "2 2  1     60     \n",
       "3 3  1     78     \n",
       "4 4  1     58     "
      ]
     },
     "metadata": {},
     "output_type": "display_data"
    }
   ],
   "source": [
    "df <- exam %>% select(math)                ; head(df, 3)  # select() : math 필요한 컬럼만 추출\n",
    "df <- exam %>% select(class, math, english); head(df, 3)  # 여러 컬럼에서 추출\n",
    "df <- exam %>% select(-math, -english)     ; head(df, 4)  # 특정 컬럼을 제외"
   ]
  },
  {
   "cell_type": "code",
   "execution_count": 18,
   "metadata": {},
   "outputs": [
    {
     "data": {
      "text/html": [
       "<table>\n",
       "<thead><tr><th scope=col>english</th></tr></thead>\n",
       "<tbody>\n",
       "\t<tr><td>98</td></tr>\n",
       "\t<tr><td>97</td></tr>\n",
       "\t<tr><td>86</td></tr>\n",
       "\t<tr><td>98</td></tr>\n",
       "</tbody>\n",
       "</table>\n"
      ],
      "text/latex": [
       "\\begin{tabular}{r|l}\n",
       " english\\\\\n",
       "\\hline\n",
       "\t 98\\\\\n",
       "\t 97\\\\\n",
       "\t 86\\\\\n",
       "\t 98\\\\\n",
       "\\end{tabular}\n"
      ],
      "text/markdown": [
       "\n",
       "english | \n",
       "|---|---|---|---|\n",
       "| 98 | \n",
       "| 97 | \n",
       "| 86 | \n",
       "| 98 | \n",
       "\n",
       "\n"
      ],
      "text/plain": [
       "  english\n",
       "1 98     \n",
       "2 97     \n",
       "3 86     \n",
       "4 98     "
      ]
     },
     "metadata": {},
     "output_type": "display_data"
    },
    {
     "data": {
      "text/html": [
       "<table>\n",
       "<thead><tr><th scope=col>id</th><th scope=col>math</th></tr></thead>\n",
       "<tbody>\n",
       "\t<tr><td>1 </td><td>50</td></tr>\n",
       "\t<tr><td>2 </td><td>60</td></tr>\n",
       "\t<tr><td>3 </td><td>45</td></tr>\n",
       "</tbody>\n",
       "</table>\n"
      ],
      "text/latex": [
       "\\begin{tabular}{r|ll}\n",
       " id & math\\\\\n",
       "\\hline\n",
       "\t 1  & 50\\\\\n",
       "\t 2  & 60\\\\\n",
       "\t 3  & 45\\\\\n",
       "\\end{tabular}\n"
      ],
      "text/markdown": [
       "\n",
       "id | math | \n",
       "|---|---|---|\n",
       "| 1  | 50 | \n",
       "| 2  | 60 | \n",
       "| 3  | 45 | \n",
       "\n",
       "\n"
      ],
      "text/plain": [
       "  id math\n",
       "1 1  50  \n",
       "2 2  60  \n",
       "3 3  45  "
      ]
     },
     "metadata": {},
     "output_type": "display_data"
    }
   ],
   "source": [
    "# filter()와 select()의 조합\n",
    "exam %>% filter(class == 1) %>% select(english)\n",
    "exam %>% select(id, math)   %>% head(3)"
   ]
  },
  {
   "cell_type": "markdown",
   "metadata": {},
   "source": [
    "### <strong>03 데이터 정렬하기\n",
    "arrange()"
   ]
  },
  {
   "cell_type": "code",
   "execution_count": 19,
   "metadata": {},
   "outputs": [
    {
     "data": {
      "text/html": [
       "<table>\n",
       "<thead><tr><th scope=col>id</th><th scope=col>class</th><th scope=col>math</th><th scope=col>english</th><th scope=col>science</th></tr></thead>\n",
       "<tbody>\n",
       "\t<tr><td>9 </td><td>3 </td><td>20</td><td>98</td><td>15</td></tr>\n",
       "\t<tr><td>5 </td><td>2 </td><td>25</td><td>80</td><td>65</td></tr>\n",
       "</tbody>\n",
       "</table>\n"
      ],
      "text/latex": [
       "\\begin{tabular}{r|lllll}\n",
       " id & class & math & english & science\\\\\n",
       "\\hline\n",
       "\t 9  & 3  & 20 & 98 & 15\\\\\n",
       "\t 5  & 2  & 25 & 80 & 65\\\\\n",
       "\\end{tabular}\n"
      ],
      "text/markdown": [
       "\n",
       "id | class | math | english | science | \n",
       "|---|---|\n",
       "| 9  | 3  | 20 | 98 | 15 | \n",
       "| 5  | 2  | 25 | 80 | 65 | \n",
       "\n",
       "\n"
      ],
      "text/plain": [
       "  id class math english science\n",
       "1 9  3     20   98      15     \n",
       "2 5  2     25   80      65     "
      ]
     },
     "metadata": {},
     "output_type": "display_data"
    },
    {
     "data": {
      "text/html": [
       "<table>\n",
       "<thead><tr><th scope=col>id</th><th scope=col>class</th><th scope=col>math</th><th scope=col>english</th><th scope=col>science</th></tr></thead>\n",
       "<tbody>\n",
       "\t<tr><td> 8</td><td>2 </td><td>90</td><td>78</td><td>25</td></tr>\n",
       "\t<tr><td>19</td><td>5 </td><td>89</td><td>68</td><td>87</td></tr>\n",
       "\t<tr><td> 7</td><td>2 </td><td>80</td><td>90</td><td>45</td></tr>\n",
       "</tbody>\n",
       "</table>\n"
      ],
      "text/latex": [
       "\\begin{tabular}{r|lllll}\n",
       " id & class & math & english & science\\\\\n",
       "\\hline\n",
       "\t  8 & 2  & 90 & 78 & 25\\\\\n",
       "\t 19 & 5  & 89 & 68 & 87\\\\\n",
       "\t  7 & 2  & 80 & 90 & 45\\\\\n",
       "\\end{tabular}\n"
      ],
      "text/markdown": [
       "\n",
       "id | class | math | english | science | \n",
       "|---|---|---|\n",
       "|  8 | 2  | 90 | 78 | 25 | \n",
       "| 19 | 5  | 89 | 68 | 87 | \n",
       "|  7 | 2  | 80 | 90 | 45 | \n",
       "\n",
       "\n"
      ],
      "text/plain": [
       "  id class math english science\n",
       "1  8 2     90   78      25     \n",
       "2 19 5     89   68      87     \n",
       "3  7 2     80   90      45     "
      ]
     },
     "metadata": {},
     "output_type": "display_data"
    },
    {
     "data": {
      "text/html": [
       "<table>\n",
       "<thead><tr><th scope=col>id</th><th scope=col>class</th><th scope=col>math</th><th scope=col>english</th><th scope=col>science</th></tr></thead>\n",
       "<tbody>\n",
       "\t<tr><td>2 </td><td>1 </td><td>60</td><td>97</td><td>60</td></tr>\n",
       "\t<tr><td>1 </td><td>1 </td><td>50</td><td>98</td><td>50</td></tr>\n",
       "\t<tr><td>3 </td><td>1 </td><td>45</td><td>86</td><td>78</td></tr>\n",
       "</tbody>\n",
       "</table>\n"
      ],
      "text/latex": [
       "\\begin{tabular}{r|lllll}\n",
       " id & class & math & english & science\\\\\n",
       "\\hline\n",
       "\t 2  & 1  & 60 & 97 & 60\\\\\n",
       "\t 1  & 1  & 50 & 98 & 50\\\\\n",
       "\t 3  & 1  & 45 & 86 & 78\\\\\n",
       "\\end{tabular}\n"
      ],
      "text/markdown": [
       "\n",
       "id | class | math | english | science | \n",
       "|---|---|---|\n",
       "| 2  | 1  | 60 | 97 | 60 | \n",
       "| 1  | 1  | 50 | 98 | 50 | \n",
       "| 3  | 1  | 45 | 86 | 78 | \n",
       "\n",
       "\n"
      ],
      "text/plain": [
       "  id class math english science\n",
       "1 2  1     60   97      60     \n",
       "2 1  1     50   98      50     \n",
       "3 3  1     45   86      78     "
      ]
     },
     "metadata": {},
     "output_type": "display_data"
    }
   ],
   "source": [
    "exam %>% arrange(math) %>% head(2)              # (기본) 오름차순 정렬\n",
    "exam %>% arrange(desc(math)) %>% head(3)        # desc() 내림차순 정렬\n",
    "exam %>% arrange(class, desc(math)) %>% head(3) # class 오름차순(1순위),  math 내림차순(2순위) "
   ]
  },
  {
   "cell_type": "markdown",
   "metadata": {},
   "source": [
    "### <strong>04 파생변수 추가하기\n",
    "mutate()"
   ]
  },
  {
   "cell_type": "code",
   "execution_count": 20,
   "metadata": {},
   "outputs": [
    {
     "data": {
      "text/html": [
       "<table>\n",
       "<thead><tr><th scope=col>id</th><th scope=col>class</th><th scope=col>math</th><th scope=col>english</th><th scope=col>science</th><th scope=col>total</th></tr></thead>\n",
       "<tbody>\n",
       "\t<tr><td>1  </td><td>1  </td><td>50 </td><td>98 </td><td>50 </td><td>198</td></tr>\n",
       "\t<tr><td>2  </td><td>1  </td><td>60 </td><td>97 </td><td>60 </td><td>217</td></tr>\n",
       "\t<tr><td>3  </td><td>1  </td><td>45 </td><td>86 </td><td>78 </td><td>209</td></tr>\n",
       "</tbody>\n",
       "</table>\n"
      ],
      "text/latex": [
       "\\begin{tabular}{r|llllll}\n",
       " id & class & math & english & science & total\\\\\n",
       "\\hline\n",
       "\t 1   & 1   & 50  & 98  & 50  & 198\\\\\n",
       "\t 2   & 1   & 60  & 97  & 60  & 217\\\\\n",
       "\t 3   & 1   & 45  & 86  & 78  & 209\\\\\n",
       "\\end{tabular}\n"
      ],
      "text/markdown": [
       "\n",
       "id | class | math | english | science | total | \n",
       "|---|---|---|\n",
       "| 1   | 1   | 50  | 98  | 50  | 198 | \n",
       "| 2   | 1   | 60  | 97  | 60  | 217 | \n",
       "| 3   | 1   | 45  | 86  | 78  | 209 | \n",
       "\n",
       "\n"
      ],
      "text/plain": [
       "  id class math english science total\n",
       "1 1  1     50   98      50      198  \n",
       "2 2  1     60   97      60      217  \n",
       "3 3  1     45   86      78      209  "
      ]
     },
     "metadata": {},
     "output_type": "display_data"
    }
   ],
   "source": [
    "# total 필드를 추가하기\n",
    "exam %>% mutate(total = math + english + science) %>% head(3)"
   ]
  },
  {
   "cell_type": "code",
   "execution_count": 21,
   "metadata": {},
   "outputs": [
    {
     "data": {
      "text/html": [
       "<table>\n",
       "<thead><tr><th scope=col>id</th><th scope=col>class</th><th scope=col>math</th><th scope=col>english</th><th scope=col>science</th><th scope=col>total</th><th scope=col>mean</th></tr></thead>\n",
       "<tbody>\n",
       "\t<tr><td>1       </td><td>1       </td><td>50      </td><td>98      </td><td>50      </td><td>198     </td><td>66.00000</td></tr>\n",
       "\t<tr><td>2       </td><td>1       </td><td>60      </td><td>97      </td><td>60      </td><td>217     </td><td>72.33333</td></tr>\n",
       "\t<tr><td>3       </td><td>1       </td><td>45      </td><td>86      </td><td>78      </td><td>209     </td><td>69.66667</td></tr>\n",
       "</tbody>\n",
       "</table>\n"
      ],
      "text/latex": [
       "\\begin{tabular}{r|lllllll}\n",
       " id & class & math & english & science & total & mean\\\\\n",
       "\\hline\n",
       "\t 1        & 1        & 50       & 98       & 50       & 198      & 66.00000\\\\\n",
       "\t 2        & 1        & 60       & 97       & 60       & 217      & 72.33333\\\\\n",
       "\t 3        & 1        & 45       & 86       & 78       & 209      & 69.66667\\\\\n",
       "\\end{tabular}\n"
      ],
      "text/markdown": [
       "\n",
       "id | class | math | english | science | total | mean | \n",
       "|---|---|---|\n",
       "| 1        | 1        | 50       | 98       | 50       | 198      | 66.00000 | \n",
       "| 2        | 1        | 60       | 97       | 60       | 217      | 72.33333 | \n",
       "| 3        | 1        | 45       | 86       | 78       | 209      | 69.66667 | \n",
       "\n",
       "\n"
      ],
      "text/plain": [
       "  id class math english science total mean    \n",
       "1 1  1     50   98      50      198   66.00000\n",
       "2 2  1     60   97      60      217   72.33333\n",
       "3 3  1     45   86      78      209   69.66667"
      ]
     },
     "metadata": {},
     "output_type": "display_data"
    }
   ],
   "source": [
    "# 여러 파생변수 한 번에 추가하기\n",
    "exam %>% mutate(total = math + english + science,\n",
    "                mean = (math + english + science) / 3) %>% head(3)"
   ]
  },
  {
   "cell_type": "code",
   "execution_count": 22,
   "metadata": {},
   "outputs": [
    {
     "data": {
      "text/html": [
       "<table>\n",
       "<thead><tr><th scope=col>id</th><th scope=col>class</th><th scope=col>math</th><th scope=col>english</th><th scope=col>science</th><th scope=col>test</th></tr></thead>\n",
       "<tbody>\n",
       "\t<tr><td>1   </td><td>1   </td><td>50  </td><td>98  </td><td>50  </td><td>fail</td></tr>\n",
       "\t<tr><td>2   </td><td>1   </td><td>60  </td><td>97  </td><td>60  </td><td>pass</td></tr>\n",
       "\t<tr><td>3   </td><td>1   </td><td>45  </td><td>86  </td><td>78  </td><td>pass</td></tr>\n",
       "</tbody>\n",
       "</table>\n"
      ],
      "text/latex": [
       "\\begin{tabular}{r|llllll}\n",
       " id & class & math & english & science & test\\\\\n",
       "\\hline\n",
       "\t 1    & 1    & 50   & 98   & 50   & fail\\\\\n",
       "\t 2    & 1    & 60   & 97   & 60   & pass\\\\\n",
       "\t 3    & 1    & 45   & 86   & 78   & pass\\\\\n",
       "\\end{tabular}\n"
      ],
      "text/markdown": [
       "\n",
       "id | class | math | english | science | test | \n",
       "|---|---|---|\n",
       "| 1    | 1    | 50   | 98   | 50   | fail | \n",
       "| 2    | 1    | 60   | 97   | 60   | pass | \n",
       "| 3    | 1    | 45   | 86   | 78   | pass | \n",
       "\n",
       "\n"
      ],
      "text/plain": [
       "  id class math english science test\n",
       "1 1  1     50   98      50      fail\n",
       "2 2  1     60   97      60      pass\n",
       "3 3  1     45   86      78      pass"
      ]
     },
     "metadata": {},
     "output_type": "display_data"
    }
   ],
   "source": [
    "# mutate()에 ifelse()적용하기 \n",
    "# 조건에 따른 '범주형 필드' 생성\n",
    "exam %>% \n",
    "    mutate(test = ifelse(science >= 60, \"pass\", \"fail\")) %>% \n",
    "        head(3)"
   ]
  },
  {
   "cell_type": "code",
   "execution_count": 23,
   "metadata": {},
   "outputs": [
    {
     "data": {
      "text/html": [
       "<table>\n",
       "<thead><tr><th scope=col>id</th><th scope=col>class</th><th scope=col>math</th><th scope=col>english</th><th scope=col>science</th><th scope=col>total</th></tr></thead>\n",
       "<tbody>\n",
       "\t<tr><td> 9 </td><td>3  </td><td>20 </td><td>98 </td><td>15 </td><td>133</td></tr>\n",
       "\t<tr><td>14 </td><td>4  </td><td>48 </td><td>87 </td><td>12 </td><td>147</td></tr>\n",
       "\t<tr><td>12 </td><td>3  </td><td>45 </td><td>85 </td><td>32 </td><td>162</td></tr>\n",
       "</tbody>\n",
       "</table>\n"
      ],
      "text/latex": [
       "\\begin{tabular}{r|llllll}\n",
       " id & class & math & english & science & total\\\\\n",
       "\\hline\n",
       "\t  9  & 3   & 20  & 98  & 15  & 133\\\\\n",
       "\t 14  & 4   & 48  & 87  & 12  & 147\\\\\n",
       "\t 12  & 3   & 45  & 85  & 32  & 162\\\\\n",
       "\\end{tabular}\n"
      ],
      "text/markdown": [
       "\n",
       "id | class | math | english | science | total | \n",
       "|---|---|---|\n",
       "|  9  | 3   | 20  | 98  | 15  | 133 | \n",
       "| 14  | 4   | 48  | 87  | 12  | 147 | \n",
       "| 12  | 3   | 45  | 85  | 32  | 162 | \n",
       "\n",
       "\n"
      ],
      "text/plain": [
       "  id class math english science total\n",
       "1  9 3     20   98      15      133  \n",
       "2 14 4     48   87      12      147  \n",
       "3 12 3     45   85      32      162  "
      ]
     },
     "metadata": {},
     "output_type": "display_data"
    }
   ],
   "source": [
    "# 필드 추가 후, 조건을 바로 붙여서 활용하기\n",
    "exam %>% \n",
    "    mutate(total = math+english+science) %>% \n",
    "                                arrange(total) %>% \n",
    "                                    head(3)"
   ]
  },
  {
   "cell_type": "markdown",
   "metadata": {},
   "source": [
    "### <strong>05 집단별로 요약하기\n",
    "집단별 평균/ 빈도를 요약한 결과를 계산"
   ]
  },
  {
   "cell_type": "code",
   "execution_count": 24,
   "metadata": {},
   "outputs": [
    {
     "data": {
      "text/html": [
       "<table>\n",
       "<thead><tr><th scope=col>mean_math</th></tr></thead>\n",
       "<tbody>\n",
       "\t<tr><td>57.45</td></tr>\n",
       "</tbody>\n",
       "</table>\n"
      ],
      "text/latex": [
       "\\begin{tabular}{r|l}\n",
       " mean\\_math\\\\\n",
       "\\hline\n",
       "\t 57.45\\\\\n",
       "\\end{tabular}\n"
      ],
      "text/markdown": [
       "\n",
       "mean_math | \n",
       "|---|\n",
       "| 57.45 | \n",
       "\n",
       "\n"
      ],
      "text/plain": [
       "  mean_math\n",
       "1 57.45    "
      ]
     },
     "metadata": {},
     "output_type": "display_data"
    },
    {
     "data": {
      "text/html": [
       "<table>\n",
       "<thead><tr><th scope=col>class</th><th scope=col>mean_math</th></tr></thead>\n",
       "<tbody>\n",
       "\t<tr><td>1    </td><td>46.25</td></tr>\n",
       "\t<tr><td>2    </td><td>61.25</td></tr>\n",
       "\t<tr><td>3    </td><td>45.00</td></tr>\n",
       "\t<tr><td>4    </td><td>56.75</td></tr>\n",
       "\t<tr><td>5    </td><td>78.00</td></tr>\n",
       "</tbody>\n",
       "</table>\n"
      ],
      "text/latex": [
       "\\begin{tabular}{r|ll}\n",
       " class & mean\\_math\\\\\n",
       "\\hline\n",
       "\t 1     & 46.25\\\\\n",
       "\t 2     & 61.25\\\\\n",
       "\t 3     & 45.00\\\\\n",
       "\t 4     & 56.75\\\\\n",
       "\t 5     & 78.00\\\\\n",
       "\\end{tabular}\n"
      ],
      "text/markdown": [
       "\n",
       "class | mean_math | \n",
       "|---|---|---|---|---|\n",
       "| 1     | 46.25 | \n",
       "| 2     | 61.25 | \n",
       "| 3     | 45.00 | \n",
       "| 4     | 56.75 | \n",
       "| 5     | 78.00 | \n",
       "\n",
       "\n"
      ],
      "text/plain": [
       "  class mean_math\n",
       "1 1     46.25    \n",
       "2 2     61.25    \n",
       "3 3     45.00    \n",
       "4 4     56.75    \n",
       "5 5     78.00    "
      ]
     },
     "metadata": {},
     "output_type": "display_data"
    }
   ],
   "source": [
    "exam %>% summarise(mean_math = mean(math))  # 필드 전체의 평균 계산하기\n",
    "exam %>% group_by(class) %>%                # class 그룹별 묶은 뒤, 그룹별 평균 계산\n",
    "    summarise(mean_math = mean(math))"
   ]
  },
  {
   "cell_type": "code",
   "execution_count": 25,
   "metadata": {},
   "outputs": [
    {
     "data": {
      "text/html": [
       "<table>\n",
       "<thead><tr><th scope=col>class</th><th scope=col>mean_math</th><th scope=col>sum_math</th><th scope=col>median_math</th><th scope=col>n</th></tr></thead>\n",
       "<tbody>\n",
       "\t<tr><td>1    </td><td>46.25</td><td>185  </td><td>47.5 </td><td>4    </td></tr>\n",
       "\t<tr><td>2    </td><td>61.25</td><td>245  </td><td>65.0 </td><td>4    </td></tr>\n",
       "\t<tr><td>3    </td><td>45.00</td><td>180  </td><td>47.5 </td><td>4    </td></tr>\n",
       "\t<tr><td>4    </td><td>56.75</td><td>227  </td><td>53.0 </td><td>4    </td></tr>\n",
       "\t<tr><td>5    </td><td>78.00</td><td>312  </td><td>79.0 </td><td>4    </td></tr>\n",
       "</tbody>\n",
       "</table>\n"
      ],
      "text/latex": [
       "\\begin{tabular}{r|lllll}\n",
       " class & mean\\_math & sum\\_math & median\\_math & n\\\\\n",
       "\\hline\n",
       "\t 1     & 46.25 & 185   & 47.5  & 4    \\\\\n",
       "\t 2     & 61.25 & 245   & 65.0  & 4    \\\\\n",
       "\t 3     & 45.00 & 180   & 47.5  & 4    \\\\\n",
       "\t 4     & 56.75 & 227   & 53.0  & 4    \\\\\n",
       "\t 5     & 78.00 & 312   & 79.0  & 4    \\\\\n",
       "\\end{tabular}\n"
      ],
      "text/markdown": [
       "\n",
       "class | mean_math | sum_math | median_math | n | \n",
       "|---|---|---|---|---|\n",
       "| 1     | 46.25 | 185   | 47.5  | 4     | \n",
       "| 2     | 61.25 | 245   | 65.0  | 4     | \n",
       "| 3     | 45.00 | 180   | 47.5  | 4     | \n",
       "| 4     | 56.75 | 227   | 53.0  | 4     | \n",
       "| 5     | 78.00 | 312   | 79.0  | 4     | \n",
       "\n",
       "\n"
      ],
      "text/plain": [
       "  class mean_math sum_math median_math n\n",
       "1 1     46.25     185      47.5        4\n",
       "2 2     61.25     245      65.0        4\n",
       "3 3     45.00     180      47.5        4\n",
       "4 4     56.75     227      53.0        4\n",
       "5 5     78.00     312      79.0        4"
      ]
     },
     "metadata": {},
     "output_type": "display_data"
    }
   ],
   "source": [
    "exam %>% group_by(class) %>% summarise(mean_math   = mean(math),\n",
    "                                        sum_math    = sum(math),\n",
    "                                        median_math = median(math), \n",
    "                                        n = n())  # n() : 빈도측정 (학생수)"
   ]
  },
  {
   "cell_type": "code",
   "execution_count": 26,
   "metadata": {},
   "outputs": [
    {
     "name": "stdout",
     "output_type": "stream",
     "text": [
      "'data.frame':\t234 obs. of  14 variables:\n",
      " $ manufacturer: chr  \"audi\" \"audi\" \"audi\" \"audi\" ...\n",
      " $ model       : chr  \"a4\" \"a4\" \"a4\" \"a4\" ...\n",
      " $ displ       : num  1.8 1.8 2 2 2.8 2.8 3.1 1.8 1.8 2 ...\n",
      " $ year        : int  1999 1999 2008 2008 1999 1999 2008 1999 1999 2008 ...\n",
      " $ cyl         : int  4 4 4 4 6 6 6 4 4 4 ...\n",
      " $ trans       : chr  \"auto(l5)\" \"manual(m5)\" \"manual(m6)\" \"auto(av)\" ...\n",
      " $ drv         : chr  \"f\" \"f\" \"f\" \"f\" ...\n",
      " $ cty         : int  18 21 20 21 16 18 18 18 16 20 ...\n",
      " $ hwy         : int  29 29 31 30 26 26 27 26 25 28 ...\n",
      " $ fl          : chr  \"p\" \"p\" \"p\" \"p\" ...\n",
      " $ class       : chr  \"compact\" \"compact\" \"compact\" \"compact\" ...\n",
      " $ total       : int  47 50 51 51 42 44 45 44 41 48 ...\n",
      " $ test        : chr  \"f\" \"p\" \"p\" \"p\" ...\n",
      " $ grade       : chr  \"A\" \"A\" \"A\" \"A\" ...\n"
     ]
    }
   ],
   "source": [
    "str(mpg)"
   ]
  },
  {
   "cell_type": "code",
   "execution_count": 27,
   "metadata": {},
   "outputs": [
    {
     "data": {
      "text/html": [
       "<table>\n",
       "<thead><tr><th scope=col>manufacturer</th><th scope=col>mean_tot</th></tr></thead>\n",
       "<tbody>\n",
       "\t<tr><td>subaru  </td><td>43.83333</td></tr>\n",
       "\t<tr><td>toyota  </td><td>32.62500</td></tr>\n",
       "\t<tr><td>nissan  </td><td>31.75000</td></tr>\n",
       "</tbody>\n",
       "</table>\n"
      ],
      "text/latex": [
       "\\begin{tabular}{r|ll}\n",
       " manufacturer & mean\\_tot\\\\\n",
       "\\hline\n",
       "\t subaru   & 43.83333\\\\\n",
       "\t toyota   & 32.62500\\\\\n",
       "\t nissan   & 31.75000\\\\\n",
       "\\end{tabular}\n"
      ],
      "text/markdown": [
       "\n",
       "manufacturer | mean_tot | \n",
       "|---|---|---|\n",
       "| subaru   | 43.83333 | \n",
       "| toyota   | 32.62500 | \n",
       "| nissan   | 31.75000 | \n",
       "\n",
       "\n"
      ],
      "text/plain": [
       "  manufacturer mean_tot\n",
       "1 subaru       43.83333\n",
       "2 toyota       32.62500\n",
       "3 nissan       31.75000"
      ]
     },
     "metadata": {},
     "output_type": "display_data"
    }
   ],
   "source": [
    "mpg %>%\n",
    "  group_by(manufacturer) %>%           # 회사별 그룹으로 묶은 뒤\n",
    "  filter(class == 'suv') %>%           # 'suv' 데이터만 추출\n",
    "  mutate(tot = (cty+hwy)) %>%          # $tot : 통합연비 필드 생성\n",
    "  summarise(mean_tot = mean(tot)) %>%  # $mean_tot : group by로 묶은 통합연비 평균을 계산\n",
    "  arrange(desc(mean_tot)) %>% head(3)  # $mean_tot를 내림차순으로 정렬"
   ]
  },
  {
   "cell_type": "markdown",
   "metadata": {},
   "source": [
    "### <strong>06 데이터 합치기 (Join)\n",
    "여러 데이터를 합쳐서 하나의 데이터로 만든 후 분석"
   ]
  },
  {
   "cell_type": "code",
   "execution_count": 28,
   "metadata": {},
   "outputs": [
    {
     "data": {
      "text/html": [
       "<table>\n",
       "<thead><tr><th scope=col>id</th><th scope=col>midterm</th><th scope=col>final</th></tr></thead>\n",
       "<tbody>\n",
       "\t<tr><td>1 </td><td>60</td><td>70</td></tr>\n",
       "\t<tr><td>2 </td><td>80</td><td>83</td></tr>\n",
       "\t<tr><td>3 </td><td>70</td><td>65</td></tr>\n",
       "\t<tr><td>4 </td><td>90</td><td>95</td></tr>\n",
       "\t<tr><td>5 </td><td>85</td><td>80</td></tr>\n",
       "</tbody>\n",
       "</table>\n"
      ],
      "text/latex": [
       "\\begin{tabular}{r|lll}\n",
       " id & midterm & final\\\\\n",
       "\\hline\n",
       "\t 1  & 60 & 70\\\\\n",
       "\t 2  & 80 & 83\\\\\n",
       "\t 3  & 70 & 65\\\\\n",
       "\t 4  & 90 & 95\\\\\n",
       "\t 5  & 85 & 80\\\\\n",
       "\\end{tabular}\n"
      ],
      "text/markdown": [
       "\n",
       "id | midterm | final | \n",
       "|---|---|---|---|---|\n",
       "| 1  | 60 | 70 | \n",
       "| 2  | 80 | 83 | \n",
       "| 3  | 70 | 65 | \n",
       "| 4  | 90 | 95 | \n",
       "| 5  | 85 | 80 | \n",
       "\n",
       "\n"
      ],
      "text/plain": [
       "  id midterm final\n",
       "1 1  60      70   \n",
       "2 2  80      83   \n",
       "3 3  70      65   \n",
       "4 4  90      95   \n",
       "5 5  85      80   "
      ]
     },
     "metadata": {},
     "output_type": "display_data"
    }
   ],
   "source": [
    "# data.frame 간의 Join\n",
    "test1 <- data.frame(id       = c(1, 2, 3, 4, 5),\n",
    "                    midterm  = c(60, 80, 70, 90, 85))\n",
    "test2 <- data.frame(id       = c(1, 2, 3, 4, 5),\n",
    "                    final    = c(70, 83, 65, 95, 80))\n",
    "total <- left_join(test1, test2, by='id'); total"
   ]
  },
  {
   "cell_type": "code",
   "execution_count": 29,
   "metadata": {},
   "outputs": [
    {
     "data": {
      "text/html": [
       "<table>\n",
       "<thead><tr><th scope=col>id</th><th scope=col>class</th><th scope=col>math</th><th scope=col>english</th><th scope=col>science</th><th scope=col>teacher</th></tr></thead>\n",
       "<tbody>\n",
       "\t<tr><td>1  </td><td>1  </td><td>50 </td><td>98 </td><td>50 </td><td>kim</td></tr>\n",
       "\t<tr><td>2  </td><td>1  </td><td>60 </td><td>97 </td><td>60 </td><td>kim</td></tr>\n",
       "\t<tr><td>3  </td><td>1  </td><td>45 </td><td>86 </td><td>78 </td><td>kim</td></tr>\n",
       "</tbody>\n",
       "</table>\n"
      ],
      "text/latex": [
       "\\begin{tabular}{r|llllll}\n",
       " id & class & math & english & science & teacher\\\\\n",
       "\\hline\n",
       "\t 1   & 1   & 50  & 98  & 50  & kim\\\\\n",
       "\t 2   & 1   & 60  & 97  & 60  & kim\\\\\n",
       "\t 3   & 1   & 45  & 86  & 78  & kim\\\\\n",
       "\\end{tabular}\n"
      ],
      "text/markdown": [
       "\n",
       "id | class | math | english | science | teacher | \n",
       "|---|---|---|\n",
       "| 1   | 1   | 50  | 98  | 50  | kim | \n",
       "| 2   | 1   | 60  | 97  | 60  | kim | \n",
       "| 3   | 1   | 45  | 86  | 78  | kim | \n",
       "\n",
       "\n"
      ],
      "text/plain": [
       "  id class math english science teacher\n",
       "1 1  1     50   98      50      kim    \n",
       "2 2  1     60   97      60      kim    \n",
       "3 3  1     45   86      78      kim    "
      ]
     },
     "metadata": {},
     "output_type": "display_data"
    }
   ],
   "source": [
    "name     <- data.frame(class   = c(1, 2, 3, 4, 5),\n",
    "                       teacher = c(\"kim\", \"lee\", \"park\", \"choi\", \"jung\"))\n",
    "exam_new <- left_join(exam, name, by = 'class')   # class 컬럼을 기준으로 테이블을 결합\n",
    "exam_new %>% head(3)"
   ]
  },
  {
   "cell_type": "code",
   "execution_count": 30,
   "metadata": {},
   "outputs": [
    {
     "data": {
      "text/html": [
       "<table>\n",
       "<thead><tr><th scope=col>id</th><th scope=col>test</th></tr></thead>\n",
       "<tbody>\n",
       "\t<tr><td> 1</td><td>60</td></tr>\n",
       "\t<tr><td> 2</td><td>80</td></tr>\n",
       "\t<tr><td> 3</td><td>70</td></tr>\n",
       "\t<tr><td> 4</td><td>90</td></tr>\n",
       "\t<tr><td> 5</td><td>85</td></tr>\n",
       "\t<tr><td> 6</td><td>70</td></tr>\n",
       "\t<tr><td> 7</td><td>83</td></tr>\n",
       "\t<tr><td> 8</td><td>65</td></tr>\n",
       "\t<tr><td> 9</td><td>95</td></tr>\n",
       "\t<tr><td>10</td><td>80</td></tr>\n",
       "</tbody>\n",
       "</table>\n"
      ],
      "text/latex": [
       "\\begin{tabular}{r|ll}\n",
       " id & test\\\\\n",
       "\\hline\n",
       "\t  1 & 60\\\\\n",
       "\t  2 & 80\\\\\n",
       "\t  3 & 70\\\\\n",
       "\t  4 & 90\\\\\n",
       "\t  5 & 85\\\\\n",
       "\t  6 & 70\\\\\n",
       "\t  7 & 83\\\\\n",
       "\t  8 & 65\\\\\n",
       "\t  9 & 95\\\\\n",
       "\t 10 & 80\\\\\n",
       "\\end{tabular}\n"
      ],
      "text/markdown": [
       "\n",
       "id | test | \n",
       "|---|---|---|---|---|---|---|---|---|---|\n",
       "|  1 | 60 | \n",
       "|  2 | 80 | \n",
       "|  3 | 70 | \n",
       "|  4 | 90 | \n",
       "|  5 | 85 | \n",
       "|  6 | 70 | \n",
       "|  7 | 83 | \n",
       "|  8 | 65 | \n",
       "|  9 | 95 | \n",
       "| 10 | 80 | \n",
       "\n",
       "\n"
      ],
      "text/plain": [
       "   id test\n",
       "1   1 60  \n",
       "2   2 80  \n",
       "3   3 70  \n",
       "4   4 90  \n",
       "5   5 85  \n",
       "6   6 70  \n",
       "7   7 83  \n",
       "8   8 65  \n",
       "9   9 95  \n",
       "10 10 80  "
      ]
     },
     "metadata": {},
     "output_type": "display_data"
    }
   ],
   "source": [
    "# bind_rows() : 데이터를 세로로 합친다\n",
    "group_a <- data.frame(id   = c(1, 2, 3, 4, 5),\n",
    "                      test = c(60, 80, 70, 90, 85))\n",
    "group_b <- data.frame(id   = c(6, 7, 8, 9, 10),\n",
    "                      test = c(70, 83, 65, 95, 80))\n",
    "group_all <- bind_rows(group_a, group_b)\n",
    "group_all"
   ]
  }
 ],
 "metadata": {
  "kernelspec": {
   "display_name": "R",
   "language": "R",
   "name": "ir"
  },
  "language_info": {
   "codemirror_mode": "r",
   "file_extension": ".r",
   "mimetype": "text/x-r-source",
   "name": "R",
   "pygments_lexer": "r",
   "version": "3.4.2"
  }
 },
 "nbformat": 4,
 "nbformat_minor": 2
}
