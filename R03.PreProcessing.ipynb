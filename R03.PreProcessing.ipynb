{
 "cells": [
  {
   "cell_type": "markdown",
   "metadata": {},
   "source": [
    "# <strong>R 데이터 분석 (데이터 전처리)\n",
    "<strong>쉽게 배우는 R 데이터 분석\n",
    "\n",
    "http://www.devtimes.com/194  (R 단축키)\n",
    "<br><br>\n",
    "## <strong>1 결측 데이터 정제\n",
    "결측치 정제하기"
   ]
  },
  {
   "cell_type": "code",
   "execution_count": 1,
   "metadata": {},
   "outputs": [
    {
     "data": {
      "text/html": [
       "<table>\n",
       "<thead><tr><th scope=col>sex</th><th scope=col>score</th></tr></thead>\n",
       "<tbody>\n",
       "\t<tr><td>M </td><td> 5</td></tr>\n",
       "\t<tr><td>F </td><td> 4</td></tr>\n",
       "\t<tr><td>NA</td><td> 3</td></tr>\n",
       "\t<tr><td>M </td><td> 4</td></tr>\n",
       "\t<tr><td>F </td><td>NA</td></tr>\n",
       "</tbody>\n",
       "</table>\n"
      ],
      "text/latex": [
       "\\begin{tabular}{r|ll}\n",
       " sex & score\\\\\n",
       "\\hline\n",
       "\t M  &  5\\\\\n",
       "\t F  &  4\\\\\n",
       "\t NA &  3\\\\\n",
       "\t M  &  4\\\\\n",
       "\t F  & NA\\\\\n",
       "\\end{tabular}\n"
      ],
      "text/markdown": [
       "\n",
       "sex | score | \n",
       "|---|---|---|---|---|\n",
       "| M  |  5 | \n",
       "| F  |  4 | \n",
       "| NA |  3 | \n",
       "| M  |  4 | \n",
       "| F  | NA | \n",
       "\n",
       "\n"
      ],
      "text/plain": [
       "  sex score\n",
       "1 M    5   \n",
       "2 F    4   \n",
       "3 NA   3   \n",
       "4 M    4   \n",
       "5 F   NA   "
      ]
     },
     "metadata": {},
     "output_type": "display_data"
    },
    {
     "data": {
      "text/html": [
       "<table>\n",
       "<thead><tr><th scope=col>sex</th><th scope=col>score</th></tr></thead>\n",
       "<tbody>\n",
       "\t<tr><td>FALSE</td><td>FALSE</td></tr>\n",
       "\t<tr><td>FALSE</td><td>FALSE</td></tr>\n",
       "\t<tr><td> TRUE</td><td>FALSE</td></tr>\n",
       "\t<tr><td>FALSE</td><td>FALSE</td></tr>\n",
       "\t<tr><td>FALSE</td><td> TRUE</td></tr>\n",
       "</tbody>\n",
       "</table>\n"
      ],
      "text/latex": [
       "\\begin{tabular}{ll}\n",
       " sex & score\\\\\n",
       "\\hline\n",
       "\t FALSE & FALSE\\\\\n",
       "\t FALSE & FALSE\\\\\n",
       "\t  TRUE & FALSE\\\\\n",
       "\t FALSE & FALSE\\\\\n",
       "\t FALSE &  TRUE\\\\\n",
       "\\end{tabular}\n"
      ],
      "text/markdown": [
       "\n",
       "sex | score | \n",
       "|---|---|---|---|---|\n",
       "| FALSE | FALSE | \n",
       "| FALSE | FALSE | \n",
       "|  TRUE | FALSE | \n",
       "| FALSE | FALSE | \n",
       "| FALSE |  TRUE | \n",
       "\n",
       "\n"
      ],
      "text/plain": [
       "     sex   score\n",
       "[1,] FALSE FALSE\n",
       "[2,] FALSE FALSE\n",
       "[3,]  TRUE FALSE\n",
       "[4,] FALSE FALSE\n",
       "[5,] FALSE  TRUE"
      ]
     },
     "metadata": {},
     "output_type": "display_data"
    },
    {
     "data": {
      "text/plain": [
       "\n",
       "FALSE  TRUE \n",
       "    8     2 "
      ]
     },
     "metadata": {},
     "output_type": "display_data"
    },
    {
     "data": {
      "text/plain": [
       "\n",
       "FALSE  TRUE \n",
       "    4     1 "
      ]
     },
     "metadata": {},
     "output_type": "display_data"
    },
    {
     "data": {
      "text/plain": [
       "\n",
       "FALSE  TRUE \n",
       "    4     1 "
      ]
     },
     "metadata": {},
     "output_type": "display_data"
    },
    {
     "data": {
      "text/html": [
       "&lt;NA&gt;"
      ],
      "text/latex": [
       "<NA>"
      ],
      "text/markdown": [
       "&lt;NA&gt;"
      ],
      "text/plain": [
       "[1] NA"
      ]
     },
     "metadata": {},
     "output_type": "display_data"
    },
    {
     "data": {
      "text/html": [
       "&lt;NA&gt;"
      ],
      "text/latex": [
       "<NA>"
      ],
      "text/markdown": [
       "&lt;NA&gt;"
      ],
      "text/plain": [
       "[1] NA"
      ]
     },
     "metadata": {},
     "output_type": "display_data"
    }
   ],
   "source": [
    "df <- data.frame(sex = c(\"M\", \"F\", NA, \"M\", \"F\"),\n",
    "                 score = c(5, 4, 3, 4, NA)); df\n",
    "\n",
    "is.na(df)               # 결측치 확인\n",
    "table(is.na(df))        # 결측치 빈도 출력\n",
    "table(is.na(df$sex))    # sex 결측치 빈도 출력\n",
    "table(is.na(df$score))  # score 결측치 빈도 출력\n",
    "mean(df$score)          # 평균 산출\n",
    "sum(df$score)           # 합계 산출 (NA가 중간에 있으면 연산이 불가능 하다)"
   ]
  },
  {
   "cell_type": "code",
   "execution_count": 2,
   "metadata": {},
   "outputs": [
    {
     "name": "stderr",
     "output_type": "stream",
     "text": [
      "\n",
      "Attaching package: ‘dplyr’\n",
      "\n",
      "The following objects are masked from ‘package:stats’:\n",
      "\n",
      "    filter, lag\n",
      "\n",
      "The following objects are masked from ‘package:base’:\n",
      "\n",
      "    intersect, setdiff, setequal, union\n",
      "\n"
     ]
    },
    {
     "data": {
      "text/html": [
       "<table>\n",
       "<thead><tr><th scope=col>sex</th><th scope=col>score</th></tr></thead>\n",
       "<tbody>\n",
       "\t<tr><td>F </td><td>NA</td></tr>\n",
       "</tbody>\n",
       "</table>\n"
      ],
      "text/latex": [
       "\\begin{tabular}{r|ll}\n",
       " sex & score\\\\\n",
       "\\hline\n",
       "\t F  & NA\\\\\n",
       "\\end{tabular}\n"
      ],
      "text/markdown": [
       "\n",
       "sex | score | \n",
       "|---|\n",
       "| F  | NA | \n",
       "\n",
       "\n"
      ],
      "text/plain": [
       "  sex score\n",
       "1 F   NA   "
      ]
     },
     "metadata": {},
     "output_type": "display_data"
    },
    {
     "data": {
      "text/html": [
       "<table>\n",
       "<thead><tr><th scope=col>sex</th><th scope=col>score</th></tr></thead>\n",
       "<tbody>\n",
       "\t<tr><td>M </td><td>5 </td></tr>\n",
       "\t<tr><td>F </td><td>4 </td></tr>\n",
       "\t<tr><td>NA</td><td>3 </td></tr>\n",
       "\t<tr><td>M </td><td>4 </td></tr>\n",
       "</tbody>\n",
       "</table>\n"
      ],
      "text/latex": [
       "\\begin{tabular}{r|ll}\n",
       " sex & score\\\\\n",
       "\\hline\n",
       "\t M  & 5 \\\\\n",
       "\t F  & 4 \\\\\n",
       "\t NA & 3 \\\\\n",
       "\t M  & 4 \\\\\n",
       "\\end{tabular}\n"
      ],
      "text/markdown": [
       "\n",
       "sex | score | \n",
       "|---|---|---|---|\n",
       "| M  | 5  | \n",
       "| F  | 4  | \n",
       "| NA | 3  | \n",
       "| M  | 4  | \n",
       "\n",
       "\n"
      ],
      "text/plain": [
       "  sex score\n",
       "1 M   5    \n",
       "2 F   4    \n",
       "3 NA  3    \n",
       "4 M   4    "
      ]
     },
     "metadata": {},
     "output_type": "display_data"
    }
   ],
   "source": [
    "library(dplyr)                              # dplyr 패키지 로드\n",
    "df %>% filter(is.na(score))                 # score가 NA인 데이터만 출력\n",
    "df %>% filter(!is.na(score))                # score 결측치 제거"
   ]
  },
  {
   "cell_type": "code",
   "execution_count": 3,
   "metadata": {},
   "outputs": [
    {
     "data": {
      "text/html": [
       "4"
      ],
      "text/latex": [
       "4"
      ],
      "text/markdown": [
       "4"
      ],
      "text/plain": [
       "[1] 4"
      ]
     },
     "metadata": {},
     "output_type": "display_data"
    },
    {
     "data": {
      "text/html": [
       "16"
      ],
      "text/latex": [
       "16"
      ],
      "text/markdown": [
       "16"
      ],
      "text/plain": [
       "[1] 16"
      ]
     },
     "metadata": {},
     "output_type": "display_data"
    }
   ],
   "source": [
    "df_nomiss <- df %>% filter(!is.na(score))  # score 결측치 제거\n",
    "mean(df_nomiss$score)                      # 결측치 제거 후 평균을 산출\n",
    "sum(df_nomiss$score)                       # 결측치 제거 후 합계 산출"
   ]
  },
  {
   "cell_type": "code",
   "execution_count": 4,
   "metadata": {},
   "outputs": [
    {
     "data": {
      "text/html": [
       "<table>\n",
       "<thead><tr><th scope=col>sex</th><th scope=col>score</th></tr></thead>\n",
       "<tbody>\n",
       "\t<tr><td>M</td><td>5</td></tr>\n",
       "\t<tr><td>F</td><td>4</td></tr>\n",
       "\t<tr><td>M</td><td>4</td></tr>\n",
       "</tbody>\n",
       "</table>\n"
      ],
      "text/latex": [
       "\\begin{tabular}{r|ll}\n",
       " sex & score\\\\\n",
       "\\hline\n",
       "\t M & 5\\\\\n",
       "\t F & 4\\\\\n",
       "\t M & 4\\\\\n",
       "\\end{tabular}\n"
      ],
      "text/markdown": [
       "\n",
       "sex | score | \n",
       "|---|---|---|\n",
       "| M | 5 | \n",
       "| F | 4 | \n",
       "| M | 4 | \n",
       "\n",
       "\n"
      ],
      "text/plain": [
       "  sex score\n",
       "1 M   5    \n",
       "2 F   4    \n",
       "3 M   4    "
      ]
     },
     "metadata": {},
     "output_type": "display_data"
    },
    {
     "data": {
      "text/html": [
       "<table>\n",
       "<thead><tr><th></th><th scope=col>sex</th><th scope=col>score</th></tr></thead>\n",
       "<tbody>\n",
       "\t<tr><th scope=row>1</th><td>M</td><td>5</td></tr>\n",
       "\t<tr><th scope=row>2</th><td>F</td><td>4</td></tr>\n",
       "\t<tr><th scope=row>4</th><td>M</td><td>4</td></tr>\n",
       "</tbody>\n",
       "</table>\n"
      ],
      "text/latex": [
       "\\begin{tabular}{r|ll}\n",
       "  & sex & score\\\\\n",
       "\\hline\n",
       "\t1 & M & 5\\\\\n",
       "\t2 & F & 4\\\\\n",
       "\t4 & M & 4\\\\\n",
       "\\end{tabular}\n"
      ],
      "text/markdown": [
       "\n",
       "| <!--/--> | sex | score | \n",
       "|---|---|---|\n",
       "| 1 | M | 5 | \n",
       "| 2 | F | 4 | \n",
       "| 4 | M | 4 | \n",
       "\n",
       "\n"
      ],
      "text/plain": [
       "  sex score\n",
       "1 M   5    \n",
       "2 F   4    \n",
       "4 M   4    "
      ]
     },
     "metadata": {},
     "output_type": "display_data"
    },
    {
     "data": {
      "text/html": [
       "4"
      ],
      "text/latex": [
       "4"
      ],
      "text/markdown": [
       "4"
      ],
      "text/plain": [
       "[1] 4"
      ]
     },
     "metadata": {},
     "output_type": "display_data"
    },
    {
     "data": {
      "text/html": [
       "16"
      ],
      "text/latex": [
       "16"
      ],
      "text/markdown": [
       "16"
      ],
      "text/plain": [
       "[1] 16"
      ]
     },
     "metadata": {},
     "output_type": "display_data"
    }
   ],
   "source": [
    "df_nomiss <- df %>% \n",
    "             filter(!is.na(score) & !is.na(sex)) ; df_nomiss  # score, sex 컬럼의 결측치 제거 후 출력\n",
    "df_nomiss2 <- na.omit(df) ; df_nomiss2                        # 모든 변수(컬럼)에 결측치 없는 데이터를 추출\n",
    "mean(df$score, na.rm = T)  # 결측치 제외하고 평균 산출\n",
    "sum(df$score, na.rm = T)   # 결측치 제외하고 합계 산출\n"
   ]
  },
  {
   "cell_type": "code",
   "execution_count": 5,
   "metadata": {},
   "outputs": [
    {
     "data": {
      "text/html": [
       "'/home/markbaum/Python/Source/R'"
      ],
      "text/latex": [
       "'/home/markbaum/Python/Source/R'"
      ],
      "text/markdown": [
       "'/home/markbaum/Python/Source/R'"
      ],
      "text/plain": [
       "[1] \"/home/markbaum/Python/Source/R\""
      ]
     },
     "metadata": {},
     "output_type": "display_data"
    },
    {
     "data": {
      "text/html": [
       "'/home/markbaum/Python/Source/R/data'"
      ],
      "text/latex": [
       "'/home/markbaum/Python/Source/R/data'"
      ],
      "text/markdown": [
       "'/home/markbaum/Python/Source/R/data'"
      ],
      "text/plain": [
       "[1] \"/home/markbaum/Python/Source/R/data\""
      ]
     },
     "metadata": {},
     "output_type": "display_data"
    },
    {
     "data": {
      "text/html": [
       "<table>\n",
       "<thead><tr><th scope=col>id</th><th scope=col>class</th><th scope=col>math</th><th scope=col>english</th><th scope=col>science</th></tr></thead>\n",
       "<tbody>\n",
       "\t<tr><td>1 </td><td>1 </td><td>50</td><td>98</td><td>50</td></tr>\n",
       "\t<tr><td>2 </td><td>1 </td><td>60</td><td>97</td><td>60</td></tr>\n",
       "\t<tr><td>3 </td><td>1 </td><td>NA</td><td>86</td><td>78</td></tr>\n",
       "</tbody>\n",
       "</table>\n"
      ],
      "text/latex": [
       "\\begin{tabular}{r|lllll}\n",
       " id & class & math & english & science\\\\\n",
       "\\hline\n",
       "\t 1  & 1  & 50 & 98 & 50\\\\\n",
       "\t 2  & 1  & 60 & 97 & 60\\\\\n",
       "\t 3  & 1  & NA & 86 & 78\\\\\n",
       "\\end{tabular}\n"
      ],
      "text/markdown": [
       "\n",
       "id | class | math | english | science | \n",
       "|---|---|---|\n",
       "| 1  | 1  | 50 | 98 | 50 | \n",
       "| 2  | 1  | 60 | 97 | 60 | \n",
       "| 3  | 1  | NA | 86 | 78 | \n",
       "\n",
       "\n"
      ],
      "text/plain": [
       "  id class math english science\n",
       "1 1  1     50   98      50     \n",
       "2 2  1     60   97      60     \n",
       "3 3  1     NA   86      78     "
      ]
     },
     "metadata": {},
     "output_type": "display_data"
    }
   ],
   "source": [
    "getwd()\n",
    "setwd('/home/markbaum/Python/Source/R/data'); getwd()  # 작업 폴더의 변경\n",
    "exam <- read.csv('csv_exam.csv')                       # CSV 파일 불러오기\n",
    "exam[c(3, 8, 15), \"math\"] <- NA  ; head(exam,3)        # 3, 8, 15행 math에 NA를 할당"
   ]
  },
  {
   "cell_type": "code",
   "execution_count": 6,
   "metadata": {},
   "outputs": [
    {
     "data": {
      "text/html": [
       "<table>\n",
       "<thead><tr><th scope=col>mean_math</th></tr></thead>\n",
       "<tbody>\n",
       "\t<tr><td>NA</td></tr>\n",
       "</tbody>\n",
       "</table>\n"
      ],
      "text/latex": [
       "\\begin{tabular}{r|l}\n",
       " mean\\_math\\\\\n",
       "\\hline\n",
       "\t NA\\\\\n",
       "\\end{tabular}\n"
      ],
      "text/markdown": [
       "\n",
       "mean_math | \n",
       "|---|\n",
       "| NA | \n",
       "\n",
       "\n"
      ],
      "text/plain": [
       "  mean_math\n",
       "1 NA       "
      ]
     },
     "metadata": {},
     "output_type": "display_data"
    },
    {
     "data": {
      "text/html": [
       "<table>\n",
       "<thead><tr><th scope=col>mean_math</th></tr></thead>\n",
       "<tbody>\n",
       "\t<tr><td>55.23529</td></tr>\n",
       "</tbody>\n",
       "</table>\n"
      ],
      "text/latex": [
       "\\begin{tabular}{r|l}\n",
       " mean\\_math\\\\\n",
       "\\hline\n",
       "\t 55.23529\\\\\n",
       "\\end{tabular}\n"
      ],
      "text/markdown": [
       "\n",
       "mean_math | \n",
       "|---|\n",
       "| 55.23529 | \n",
       "\n",
       "\n"
      ],
      "text/plain": [
       "  mean_math\n",
       "1 55.23529 "
      ]
     },
     "metadata": {},
     "output_type": "display_data"
    },
    {
     "data": {
      "text/html": [
       "<table>\n",
       "<thead><tr><th scope=col>mean_math</th><th scope=col>sum_math</th><th scope=col>median_math</th></tr></thead>\n",
       "<tbody>\n",
       "\t<tr><td>55.23529</td><td>939     </td><td>50      </td></tr>\n",
       "</tbody>\n",
       "</table>\n"
      ],
      "text/latex": [
       "\\begin{tabular}{r|lll}\n",
       " mean\\_math & sum\\_math & median\\_math\\\\\n",
       "\\hline\n",
       "\t 55.23529 & 939      & 50      \\\\\n",
       "\\end{tabular}\n"
      ],
      "text/markdown": [
       "\n",
       "mean_math | sum_math | median_math | \n",
       "|---|\n",
       "| 55.23529 | 939      | 50       | \n",
       "\n",
       "\n"
      ],
      "text/plain": [
       "  mean_math sum_math median_math\n",
       "1 55.23529  939      50         "
      ]
     },
     "metadata": {},
     "output_type": "display_data"
    },
    {
     "data": {
      "text/html": [
       "55.2352941176471"
      ],
      "text/latex": [
       "55.2352941176471"
      ],
      "text/markdown": [
       "55.2352941176471"
      ],
      "text/plain": [
       "[1] 55.23529"
      ]
     },
     "metadata": {},
     "output_type": "display_data"
    }
   ],
   "source": [
    "exam %>% summarise(mean_math = mean(math))                 # math 평균 산출\n",
    "exam %>% summarise(mean_math = mean(math, na.rm = T))      # math 결측치 제외하고 평균 산출\n",
    "exam %>% summarise(mean_math = mean(math, na.rm = T),      # 평균 산출\n",
    "                   sum_math = sum(math, na.rm = T),        # 합계 산출\n",
    "                   median_math = median(math, na.rm = T))  # 중앙값 산출\n",
    "math_mid <- mean(exam$math, na.rm = T) ; math_mid          # 결측치 제거 후 math 평균을 산출"
   ]
  },
  {
   "cell_type": "code",
   "execution_count": 7,
   "metadata": {},
   "outputs": [
    {
     "data": {
      "text/plain": [
       "\n",
       "FALSE \n",
       "   20 "
      ]
     },
     "metadata": {},
     "output_type": "display_data"
    },
    {
     "data": {
      "text/html": [
       "55.2352941176471"
      ],
      "text/latex": [
       "55.2352941176471"
      ],
      "text/markdown": [
       "55.2352941176471"
      ],
      "text/plain": [
       "[1] 55.23529"
      ]
     },
     "metadata": {},
     "output_type": "display_data"
    }
   ],
   "source": [
    "exam$math <- ifelse(is.na(exam$math), math_mid, exam$math)  # math컬럼의 NA를 55(평균값)로 대체\n",
    "table(is.na(exam$math))                                     # 결측치 빈도표 생성\n",
    "mean(exam$math)                                             # math 평균 산출 (NA제외한 평균과 동일한 결과를 출력)"
   ]
  },
  {
   "cell_type": "markdown",
   "metadata": {},
   "source": [
    "<br>\n",
    "## <strong>2 이상치 데이터 정제\n",
    "이상치 정제하기"
   ]
  },
  {
   "cell_type": "code",
   "execution_count": 8,
   "metadata": {},
   "outputs": [
    {
     "data": {
      "text/html": [
       "<table>\n",
       "<thead><tr><th scope=col>sex</th><th scope=col>score</th></tr></thead>\n",
       "<tbody>\n",
       "\t<tr><td>1</td><td>5</td></tr>\n",
       "\t<tr><td>2</td><td>4</td></tr>\n",
       "\t<tr><td>1</td><td>3</td></tr>\n",
       "</tbody>\n",
       "</table>\n"
      ],
      "text/latex": [
       "\\begin{tabular}{r|ll}\n",
       " sex & score\\\\\n",
       "\\hline\n",
       "\t 1 & 5\\\\\n",
       "\t 2 & 4\\\\\n",
       "\t 1 & 3\\\\\n",
       "\\end{tabular}\n"
      ],
      "text/markdown": [
       "\n",
       "sex | score | \n",
       "|---|---|---|\n",
       "| 1 | 5 | \n",
       "| 2 | 4 | \n",
       "| 1 | 3 | \n",
       "\n",
       "\n"
      ],
      "text/plain": [
       "  sex score\n",
       "1 1   5    \n",
       "2 2   4    \n",
       "3 1   3    "
      ]
     },
     "metadata": {},
     "output_type": "display_data"
    },
    {
     "data": {
      "text/plain": [
       "\n",
       "1 2 3 \n",
       "3 2 1 "
      ]
     },
     "metadata": {},
     "output_type": "display_data"
    },
    {
     "data": {
      "text/plain": [
       "\n",
       "2 3 4 5 6 \n",
       "1 1 2 1 1 "
      ]
     },
     "metadata": {},
     "output_type": "display_data"
    }
   ],
   "source": [
    "outlier <- data.frame(sex   = c(1, 2, 1, 3, 2, 1),\n",
    "                      score = c(5, 4, 3, 4, 2, 6)); head(outlier,3)\n",
    "table(outlier$sex)\n",
    "table(outlier$score)"
   ]
  },
  {
   "cell_type": "code",
   "execution_count": 9,
   "metadata": {},
   "outputs": [
    {
     "data": {
      "text/html": [
       "<table>\n",
       "<thead><tr><th scope=col>sex</th><th scope=col>score</th></tr></thead>\n",
       "<tbody>\n",
       "\t<tr><td>1</td><td>5</td></tr>\n",
       "\t<tr><td>2</td><td>4</td></tr>\n",
       "\t<tr><td>1</td><td>3</td></tr>\n",
       "</tbody>\n",
       "</table>\n"
      ],
      "text/latex": [
       "\\begin{tabular}{r|ll}\n",
       " sex & score\\\\\n",
       "\\hline\n",
       "\t 1 & 5\\\\\n",
       "\t 2 & 4\\\\\n",
       "\t 1 & 3\\\\\n",
       "\\end{tabular}\n"
      ],
      "text/markdown": [
       "\n",
       "sex | score | \n",
       "|---|---|---|\n",
       "| 1 | 5 | \n",
       "| 2 | 4 | \n",
       "| 1 | 3 | \n",
       "\n",
       "\n"
      ],
      "text/plain": [
       "  sex score\n",
       "1 1   5    \n",
       "2 2   4    \n",
       "3 1   3    "
      ]
     },
     "metadata": {},
     "output_type": "display_data"
    },
    {
     "data": {
      "text/html": [
       "<table>\n",
       "<thead><tr><th scope=col>sex</th><th scope=col>score</th></tr></thead>\n",
       "<tbody>\n",
       "\t<tr><td>1</td><td>5</td></tr>\n",
       "\t<tr><td>2</td><td>4</td></tr>\n",
       "\t<tr><td>1</td><td>3</td></tr>\n",
       "</tbody>\n",
       "</table>\n"
      ],
      "text/latex": [
       "\\begin{tabular}{r|ll}\n",
       " sex & score\\\\\n",
       "\\hline\n",
       "\t 1 & 5\\\\\n",
       "\t 2 & 4\\\\\n",
       "\t 1 & 3\\\\\n",
       "\\end{tabular}\n"
      ],
      "text/markdown": [
       "\n",
       "sex | score | \n",
       "|---|---|---|\n",
       "| 1 | 5 | \n",
       "| 2 | 4 | \n",
       "| 1 | 3 | \n",
       "\n",
       "\n"
      ],
      "text/plain": [
       "  sex score\n",
       "1 1   5    \n",
       "2 2   4    \n",
       "3 1   3    "
      ]
     },
     "metadata": {},
     "output_type": "display_data"
    },
    {
     "data": {
      "text/html": [
       "<table>\n",
       "<thead><tr><th scope=col>sex</th><th scope=col>mean_score</th></tr></thead>\n",
       "<tbody>\n",
       "\t<tr><td>1</td><td>4</td></tr>\n",
       "\t<tr><td>2</td><td>3</td></tr>\n",
       "</tbody>\n",
       "</table>\n"
      ],
      "text/latex": [
       "\\begin{tabular}{r|ll}\n",
       " sex & mean\\_score\\\\\n",
       "\\hline\n",
       "\t 1 & 4\\\\\n",
       "\t 2 & 3\\\\\n",
       "\\end{tabular}\n"
      ],
      "text/markdown": [
       "\n",
       "sex | mean_score | \n",
       "|---|---|\n",
       "| 1 | 4 | \n",
       "| 2 | 3 | \n",
       "\n",
       "\n"
      ],
      "text/plain": [
       "  sex mean_score\n",
       "1 1   4         \n",
       "2 2   3         "
      ]
     },
     "metadata": {},
     "output_type": "display_data"
    }
   ],
   "source": [
    "outlier$sex <- ifelse(outlier$sex == 3, NA, outlier$sex);      head(outlier, 3) # sex가 3일 떄, NA 할당\n",
    "outlier$score <- ifelse(outlier$score > 5, NA, outlier$score); head(outlier, 3) # score가 5보다 크면 NA 할당\n",
    "outlier %>% \n",
    "      filter(!is.na(sex) & !is.na(score)) %>%\n",
    "      group_by(sex) %>%\n",
    "      summarise(mean_score = mean(score))"
   ]
  },
  {
   "cell_type": "code",
   "execution_count": 10,
   "metadata": {},
   "outputs": [
    {
     "data": {
      "image/png": "[encoded data removed]",
      "text/plain": [
       "plot without title"
      ]
     },
     "metadata": {},
     "output_type": "display_data"
    }
   ],
   "source": [
    "library(repr)                # ggplot 의 출력 크기를 정의\n",
    "options(repr.plot.width = 1.5, repr.plot.height = 3.5)  \n",
    "mpg <- as.data.frame(ggplot2::mpg)\n",
    "boxplot(mpg$hwy)"
   ]
  },
  {
   "cell_type": "code",
   "execution_count": 11,
   "metadata": {},
   "outputs": [
    {
     "data": {
      "text/html": [
       "<ol class=list-inline>\n",
       "\t<li>12</li>\n",
       "\t<li>18</li>\n",
       "\t<li>24</li>\n",
       "\t<li>27</li>\n",
       "\t<li>37</li>\n",
       "</ol>\n"
      ],
      "text/latex": [
       "\\begin{enumerate*}\n",
       "\\item 12\n",
       "\\item 18\n",
       "\\item 24\n",
       "\\item 27\n",
       "\\item 37\n",
       "\\end{enumerate*}\n"
      ],
      "text/markdown": [
       "1. 12\n",
       "2. 18\n",
       "3. 24\n",
       "4. 27\n",
       "5. 37\n",
       "\n",
       "\n"
      ],
      "text/plain": [
       "     [,1]\n",
       "[1,]   12\n",
       "[2,]   18\n",
       "[3,]   24\n",
       "[4,]   27\n",
       "[5,]   37\n",
       "attr(,\"class\")\n",
       "        1 \n",
       "\"integer\" "
      ]
     },
     "metadata": {},
     "output_type": "display_data"
    },
    {
     "data": {
      "image/png": "[encoded data removed]",
      "text/plain": [
       "plot without title"
      ]
     },
     "metadata": {},
     "output_type": "display_data"
    }
   ],
   "source": [
    "boxplot(mpg$hwy)$stats  # 상자 그림 통계치 출력"
   ]
  },
  {
   "cell_type": "code",
   "execution_count": 12,
   "metadata": {
    "scrolled": true
   },
   "outputs": [
    {
     "data": {
      "text/plain": [
       "\n",
       "FALSE  TRUE \n",
       "  231     3 "
      ]
     },
     "metadata": {},
     "output_type": "display_data"
    },
    {
     "data": {
      "text/html": [
       "<table>\n",
       "<thead><tr><th scope=col>drv</th><th scope=col>mean_hwy</th></tr></thead>\n",
       "<tbody>\n",
       "\t<tr><td>4       </td><td>19.17476</td></tr>\n",
       "\t<tr><td>f       </td><td>27.72816</td></tr>\n",
       "\t<tr><td>r       </td><td>21.00000</td></tr>\n",
       "</tbody>\n",
       "</table>\n"
      ],
      "text/latex": [
       "\\begin{tabular}{r|ll}\n",
       " drv & mean\\_hwy\\\\\n",
       "\\hline\n",
       "\t 4        & 19.17476\\\\\n",
       "\t f        & 27.72816\\\\\n",
       "\t r        & 21.00000\\\\\n",
       "\\end{tabular}\n"
      ],
      "text/markdown": [
       "\n",
       "drv | mean_hwy | \n",
       "|---|---|---|\n",
       "| 4        | 19.17476 | \n",
       "| f        | 27.72816 | \n",
       "| r        | 21.00000 | \n",
       "\n",
       "\n"
      ],
      "text/plain": [
       "  drv mean_hwy\n",
       "1 4   19.17476\n",
       "2 f   27.72816\n",
       "3 r   21.00000"
      ]
     },
     "metadata": {},
     "output_type": "display_data"
    }
   ],
   "source": [
    "mpg$hwy <- ifelse(mpg$hwy < 12 | mpg$hwy > 37, NA, mpg$hwy)  # 12~37 벗어나면 NA 할당\n",
    "table(is.na(mpg$hwy))                                         # 결측치 확인\n",
    "mpg %>% group_by(drv) %>% summarise(mean_hwy = mean(hwy, na.rm = T))"
   ]
  },
  {
   "cell_type": "markdown",
   "metadata": {},
   "source": [
    "<br>\n",
    "## <strong>3 데이터 정제 정리 및 요약\n",
    "정제방법의 요약"
   ]
  },
  {
   "cell_type": "code",
   "execution_count": 13,
   "metadata": {},
   "outputs": [
    {
     "data": {
      "text/plain": [
       "\n",
       "FALSE  TRUE \n",
       "    4     1 "
      ]
     },
     "metadata": {},
     "output_type": "display_data"
    },
    {
     "data": {
      "text/html": [
       "4"
      ],
      "text/latex": [
       "4"
      ],
      "text/markdown": [
       "4"
      ],
      "text/plain": [
       "[1] 4"
      ]
     },
     "metadata": {},
     "output_type": "display_data"
    },
    {
     "data": {
      "text/html": [
       "<table>\n",
       "<thead><tr><th scope=col>mean_math</th></tr></thead>\n",
       "<tbody>\n",
       "\t<tr><td>55.23529</td></tr>\n",
       "</tbody>\n",
       "</table>\n"
      ],
      "text/latex": [
       "\\begin{tabular}{r|l}\n",
       " mean\\_math\\\\\n",
       "\\hline\n",
       "\t 55.23529\\\\\n",
       "\\end{tabular}\n"
      ],
      "text/markdown": [
       "\n",
       "mean_math | \n",
       "|---|\n",
       "| 55.23529 | \n",
       "\n",
       "\n"
      ],
      "text/plain": [
       "  mean_math\n",
       "1 55.23529 "
      ]
     },
     "metadata": {},
     "output_type": "display_data"
    }
   ],
   "source": [
    "# 1.결측치 정제\n",
    "table(is.na(df$score))                                   # 결측치 확인\n",
    "\n",
    "df_nomiss <- df %>% filter(!is.na(score))                # 결측치 제거\n",
    "df_nomiss <- df %>% filter(!is.na(score) & !is.na(sex))  # 여러 변수 동시에 결측치 제거\n",
    "mean(df$score, na.rm = T) \n",
    "\n",
    "exam %>% summarise(mean_math = mean(math, na.rm = T))    # 함수의 결측치 제외 후 평균출력"
   ]
  },
  {
   "cell_type": "code",
   "execution_count": 14,
   "metadata": {},
   "outputs": [
    {
     "data": {
      "text/plain": [
       "\n",
       "1 2 \n",
       "3 2 "
      ]
     },
     "metadata": {},
     "output_type": "display_data"
    },
    {
     "data": {
      "text/html": [
       "<ol class=list-inline>\n",
       "\t<li>12</li>\n",
       "\t<li>18</li>\n",
       "\t<li>24</li>\n",
       "\t<li>27</li>\n",
       "\t<li>37</li>\n",
       "</ol>\n"
      ],
      "text/latex": [
       "\\begin{enumerate*}\n",
       "\\item 12\n",
       "\\item 18\n",
       "\\item 24\n",
       "\\item 27\n",
       "\\item 37\n",
       "\\end{enumerate*}\n"
      ],
      "text/markdown": [
       "1. 12\n",
       "2. 18\n",
       "3. 24\n",
       "4. 27\n",
       "5. 37\n",
       "\n",
       "\n"
      ],
      "text/plain": [
       "     [,1]\n",
       "[1,]   12\n",
       "[2,]   18\n",
       "[3,]   24\n",
       "[4,]   27\n",
       "[5,]   37\n",
       "attr(,\"class\")\n",
       "        1 \n",
       "\"integer\" "
      ]
     },
     "metadata": {},
     "output_type": "display_data"
    },
    {
     "data": {
      "image/png": "[encoded data removed]",
      "text/plain": [
       "plot without title"
      ]
     },
     "metadata": {},
     "output_type": "display_data"
    }
   ],
   "source": [
    "# 2.이상치 정제\n",
    "table(outlier$sex)                                         # 이상치 확인\n",
    "\n",
    "outlier$sex <- ifelse(outlier$sex == 3, NA, outlier$sex)  # 결측 처리\n",
    "boxplot(mpg$hwy)$stats                                    # boxplot으로 극단치 기준 찾기"
   ]
  },
  {
   "cell_type": "code",
   "execution_count": 15,
   "metadata": {},
   "outputs": [],
   "source": [
    "mpg$hwy <- ifelse(mpg$hwy < 12 | mpg$hwy > 37, NA, mpg$hwy) # 극단치 결측 처리"
   ]
  }
 ],
 "metadata": {
  "kernelspec": {
   "display_name": "R",
   "language": "R",
   "name": "ir"
  },
  "language_info": {
   "codemirror_mode": "r",
   "file_extension": ".r",
   "mimetype": "text/x-r-source",
   "name": "R",
   "pygments_lexer": "r",
   "version": "3.4.2"
  }
 },
 "nbformat": 4,
 "nbformat_minor": 2
}
